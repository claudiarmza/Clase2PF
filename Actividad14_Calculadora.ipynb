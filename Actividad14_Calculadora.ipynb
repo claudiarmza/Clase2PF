{
 "cells": [
  {
   "cell_type": "code",
   "execution_count": 1,
   "id": "0ff9f6b6",
   "metadata": {},
   "outputs": [
    {
     "name": "stdout",
     "output_type": "stream",
     "text": [
      "Número 1: 90\n",
      "Número 2: 10\n",
      "Suma =  100.0\n",
      "Resta =  80.0\n",
      "Multiplicación =  900.0\n",
      "División =  9.0\n"
     ]
    }
   ],
   "source": [
    "class calculadora:\n",
    "    def __init__(self,num1,num2):\n",
    "        self.num1=float(num1)\n",
    "        self.num2=float(num2)\n",
    "        \n",
    "    def sumar(self):\n",
    "        suma = self.num1 + self.num2\n",
    "        print(\"Suma = \",suma)\n",
    "        \n",
    "    def restar(self):\n",
    "        resta = self.num1 - self.num2\n",
    "        print(\"Resta = \",resta)\n",
    "        \n",
    "    def multiplicar(self):\n",
    "        producto = self.num1 * self.num2\n",
    "        print(\"Multiplicación = \",producto)\n",
    "    \n",
    "    def dividir(self):\n",
    "        division = self.num1 / self.num2\n",
    "        print(\"División = \",division)\n",
    "        \n",
    "num1 = input(\"Número 1: \")\n",
    "num2 = input(\"Número 2: \")\n",
    "\n",
    "calculadora = calculadora(num1,num2)\n",
    "calculadora.sumar()\n",
    "calculadora.restar()\n",
    "calculadora.multiplicar()\n",
    "calculadora.dividir()"
   ]
  },
  {
   "cell_type": "code",
   "execution_count": 2,
   "id": "2e510acb",
   "metadata": {},
   "outputs": [],
   "source": [
    "#Act avanzada: Lo anterior + raiz y elevar a una potencia"
   ]
  },
  {
   "cell_type": "code",
   "execution_count": null,
   "id": "206c46d2",
   "metadata": {},
   "outputs": [],
   "source": []
  }
 ],
 "metadata": {
  "kernelspec": {
   "display_name": "Python 3 (ipykernel)",
   "language": "python",
   "name": "python3"
  },
  "language_info": {
   "codemirror_mode": {
    "name": "ipython",
    "version": 3
   },
   "file_extension": ".py",
   "mimetype": "text/x-python",
   "name": "python",
   "nbconvert_exporter": "python",
   "pygments_lexer": "ipython3",
   "version": "3.9.12"
  }
 },
 "nbformat": 4,
 "nbformat_minor": 5
}
