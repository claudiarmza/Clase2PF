{
 "cells": [
  {
   "cell_type": "code",
   "execution_count": 40,
   "id": "22c088cd",
   "metadata": {},
   "outputs": [
    {
     "name": "stdout",
     "output_type": "stream",
     "text": [
      "Miguel 18\n",
      "Edwin 23\n",
      "Erick 28\n",
      "Pedro 16\n",
      "Pau 25\n",
      "Liliana 20\n",
      "Marco 25\n",
      "Claudia 21\n",
      "Roland 25\n",
      "Gerardo 9\n",
      "Jonathan 15\n",
      "Paco 13\n",
      "Yolanda 4\n",
      "Julio 28\n",
      "Victor 3\n",
      "Gustavo 8\n",
      "Paulina 25\n"
     ]
    }
   ],
   "source": [
    "# Cada compañero dirá un número. Los guardarás en un diccionario, junto con el nombre de la pareja.\n",
    "# Luego imprimirán los valores del diccionario (nombre de la persona y número que dijo), usando un bucle for\n",
    "import numpy as np\n",
    "diccionario={\"Miguel\":18,\"Edwin\":23,\"Erick\":28,\"Pedro\":16,\"Pau\":25,\"Liliana\":20,\"Marco\":25,\"Claudia\":21,\"Roland\":25,\"Gerardo\":9,\"Jonathan\":15,\"Paco\":13,\"Yolanda\":4,\"Julio\":28,\"Victor\":3,\"Gustavo\":8,\"Paulina\":25}\n",
    "for k,v in diccionario.items():\n",
    "    print(k,v)"
   ]
  },
  {
   "cell_type": "code",
   "execution_count": 36,
   "id": "25f6b1f6",
   "metadata": {},
   "outputs": [
    {
     "name": "stdout",
     "output_type": "stream",
     "text": [
      "El valor minimo es  3\n"
     ]
    }
   ],
   "source": [
    "#Al ﬁnal imprimirán dos mensajes, mostrando el número más  grande, y el número más pequeño que dijeron, sin el nombre del  socio, sólo el número.\n",
    "i=0\n",
    "j=0\n",
    "v=100\n",
    "for i,j in diccionario.items():\n",
    "    if j==v:\n",
    "        v=j\n",
    "    elif j<=v:\n",
    "        v=j\n",
    "    elif j>=v:\n",
    "        pass\n",
    "print('El valor minimo es ', v)"
   ]
  },
  {
   "cell_type": "code",
   "execution_count": 41,
   "id": "1a47e5b6",
   "metadata": {},
   "outputs": [],
   "source": [
    "#Otra forma de resolverlo es haciendo lista los valores del diccionario\n",
    "num=list(diccionario.values())"
   ]
  },
  {
   "cell_type": "code",
   "execution_count": 42,
   "id": "393931bf",
   "metadata": {},
   "outputs": [
    {
     "data": {
      "text/plain": [
       "[18, 23, 28, 16, 25, 20, 25, 21, 25, 9, 15, 13, 4, 28, 3, 8, 25]"
      ]
     },
     "execution_count": 42,
     "metadata": {},
     "output_type": "execute_result"
    }
   ],
   "source": [
    "num"
   ]
  },
  {
   "cell_type": "code",
   "execution_count": 47,
   "id": "c561e297",
   "metadata": {},
   "outputs": [],
   "source": [
    "num.sort()"
   ]
  },
  {
   "cell_type": "code",
   "execution_count": 48,
   "id": "ea06cade",
   "metadata": {},
   "outputs": [
    {
     "data": {
      "text/plain": [
       "[3, 4, 8, 9, 13, 15, 16, 18, 20, 21, 23, 25, 25, 25, 25, 28, 28]"
      ]
     },
     "execution_count": 48,
     "metadata": {},
     "output_type": "execute_result"
    }
   ],
   "source": [
    "num"
   ]
  },
  {
   "cell_type": "code",
   "execution_count": 49,
   "id": "b8fe1007",
   "metadata": {},
   "outputs": [
    {
     "name": "stdout",
     "output_type": "stream",
     "text": [
      "El valor máximo es  28\n",
      "El valor mínimo es  3\n"
     ]
    }
   ],
   "source": [
    "print(\"El valor máximo es \", num[-1])\n",
    "print(\"El valor mínimo es \", num[0])"
   ]
  },
  {
   "cell_type": "code",
   "execution_count": null,
   "id": "f96cc80d",
   "metadata": {},
   "outputs": [],
   "source": []
  }
 ],
 "metadata": {
  "kernelspec": {
   "display_name": "Python 3 (ipykernel)",
   "language": "python",
   "name": "python3"
  },
  "language_info": {
   "codemirror_mode": {
    "name": "ipython",
    "version": 3
   },
   "file_extension": ".py",
   "mimetype": "text/x-python",
   "name": "python",
   "nbconvert_exporter": "python",
   "pygments_lexer": "ipython3",
   "version": "3.9.12"
  }
 },
 "nbformat": 4,
 "nbformat_minor": 5
}
