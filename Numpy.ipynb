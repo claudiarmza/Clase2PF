{
 "cells": [
  {
   "cell_type": "markdown",
   "id": "89ec3f86",
   "metadata": {},
   "source": [
    "## Instalar librerías a utilizar en este archivo"
   ]
  },
  {
   "cell_type": "code",
   "execution_count": 1,
   "id": "b412727e",
   "metadata": {
    "scrolled": true
   },
   "outputs": [
    {
     "name": "stdout",
     "output_type": "stream",
     "text": [
      "Collecting numpy\n",
      "  Downloading numpy-1.19.5-cp36-cp36m-win_amd64.whl (13.2 MB)\n",
      "Installing collected packages: numpy\n",
      "Successfully installed numpy-1.19.5\n"
     ]
    }
   ],
   "source": [
    "!pip install numpy"
   ]
  },
  {
   "cell_type": "code",
   "execution_count": 2,
   "id": "6b8452c5",
   "metadata": {},
   "outputs": [],
   "source": [
    "import numpy"
   ]
  },
  {
   "cell_type": "code",
   "execution_count": 3,
   "id": "6ce67420",
   "metadata": {},
   "outputs": [
    {
     "data": {
      "text/plain": [
       "list"
      ]
     },
     "execution_count": 3,
     "metadata": {},
     "output_type": "execute_result"
    }
   ],
   "source": [
    "lista=[1,2,3]\n",
    "type(lista)"
   ]
  },
  {
   "cell_type": "code",
   "execution_count": 4,
   "id": "51ecdf0a",
   "metadata": {},
   "outputs": [
    {
     "data": {
      "text/plain": [
       "numpy.ndarray"
      ]
     },
     "execution_count": 4,
     "metadata": {},
     "output_type": "execute_result"
    }
   ],
   "source": [
    "#Crear una matriz a partir de una lista\n",
    "matriz=numpy.array(lista)\n",
    "type(matriz)"
   ]
  },
  {
   "cell_type": "code",
   "execution_count": 5,
   "id": "b5a49a2d",
   "metadata": {},
   "outputs": [
    {
     "data": {
      "text/plain": [
       "array([1, 2, 3])"
      ]
     },
     "execution_count": 5,
     "metadata": {},
     "output_type": "execute_result"
    }
   ],
   "source": [
    "matriz"
   ]
  },
  {
   "cell_type": "code",
   "execution_count": 6,
   "id": "13a4e5f6",
   "metadata": {},
   "outputs": [
    {
     "data": {
      "text/plain": [
       "array([1, 2, 3])"
      ]
     },
     "execution_count": 6,
     "metadata": {},
     "output_type": "execute_result"
    }
   ],
   "source": [
    "import numpy as np\n",
    "matriz2=np.array(lista)\n",
    "matriz2"
   ]
  },
  {
   "cell_type": "code",
   "execution_count": 7,
   "id": "c9b5a747",
   "metadata": {},
   "outputs": [
    {
     "data": {
      "text/plain": [
       "1"
      ]
     },
     "execution_count": 7,
     "metadata": {},
     "output_type": "execute_result"
    }
   ],
   "source": [
    "matriz.ndim #Para saber cuántas dimensiones tiene la matriz"
   ]
  },
  {
   "cell_type": "code",
   "execution_count": 8,
   "id": "0174afec",
   "metadata": {},
   "outputs": [
    {
     "data": {
      "text/plain": [
       "(3,)"
      ]
     },
     "execution_count": 8,
     "metadata": {},
     "output_type": "execute_result"
    }
   ],
   "source": [
    "matriz.shape #Para saber cuántos elementos tiene la matriz"
   ]
  },
  {
   "cell_type": "code",
   "execution_count": 9,
   "id": "ae3487c1",
   "metadata": {},
   "outputs": [],
   "source": [
    "lista3=[1.0,True,\"a\",3]"
   ]
  },
  {
   "cell_type": "code",
   "execution_count": 10,
   "id": "c79965a7",
   "metadata": {},
   "outputs": [
    {
     "data": {
      "text/plain": [
       "array(['1.0', 'True', 'a', '3'], dtype='<U32')"
      ]
     },
     "execution_count": 10,
     "metadata": {},
     "output_type": "execute_result"
    }
   ],
   "source": [
    "matriz3=np.array(lista3)\n",
    "matriz3"
   ]
  },
  {
   "cell_type": "code",
   "execution_count": 11,
   "id": "8b2eb4cf",
   "metadata": {},
   "outputs": [],
   "source": [
    "#Todos los elementos pasaron a ser de un solo tipo, en este caso se convirtieron en string"
   ]
  },
  {
   "cell_type": "code",
   "execution_count": 12,
   "id": "dbcb7676",
   "metadata": {},
   "outputs": [
    {
     "name": "stdout",
     "output_type": "stream",
     "text": [
      "<U32\n"
     ]
    }
   ],
   "source": [
    "print(matriz3.dtype)"
   ]
  },
  {
   "cell_type": "code",
   "execution_count": 13,
   "id": "47e22b78",
   "metadata": {},
   "outputs": [
    {
     "name": "stdout",
     "output_type": "stream",
     "text": [
      "int32\n"
     ]
    }
   ],
   "source": [
    "print(matriz2.dtype)"
   ]
  },
  {
   "cell_type": "code",
   "execution_count": 14,
   "id": "4d5c319e",
   "metadata": {},
   "outputs": [],
   "source": [
    "#Las matrices solo pueden tener un tipo de dato"
   ]
  },
  {
   "cell_type": "code",
   "execution_count": 15,
   "id": "84acd10b",
   "metadata": {},
   "outputs": [],
   "source": [
    "matriz4=np.array([1,2,3], dtype=\"float\") #crear una matriz a partir de escribirla dentro de la instrucción (escribir dentro de np.array)"
   ]
  },
  {
   "cell_type": "code",
   "execution_count": 16,
   "id": "8668c4e3",
   "metadata": {},
   "outputs": [
    {
     "data": {
      "text/plain": [
       "array([1., 2., 3.])"
      ]
     },
     "execution_count": 16,
     "metadata": {},
     "output_type": "execute_result"
    }
   ],
   "source": [
    "matriz4"
   ]
  },
  {
   "cell_type": "code",
   "execution_count": 17,
   "id": "7dc806dc",
   "metadata": {},
   "outputs": [
    {
     "data": {
      "text/plain": [
       "dtype('float64')"
      ]
     },
     "execution_count": 17,
     "metadata": {},
     "output_type": "execute_result"
    }
   ],
   "source": [
    "matriz4.dtype"
   ]
  },
  {
   "cell_type": "code",
   "execution_count": 18,
   "id": "67708281",
   "metadata": {},
   "outputs": [
    {
     "data": {
      "text/plain": [
       "dtype('float16')"
      ]
     },
     "execution_count": 18,
     "metadata": {},
     "output_type": "execute_result"
    }
   ],
   "source": [
    "matriz5=np.array([1,2,3], dtype=\"float16\")\n",
    "matriz5.dtype"
   ]
  },
  {
   "cell_type": "code",
   "execution_count": null,
   "id": "e017fd87",
   "metadata": {},
   "outputs": [],
   "source": [
    "#Operaciones con matrices"
   ]
  },
  {
   "cell_type": "code",
   "execution_count": 19,
   "id": "984aecb4",
   "metadata": {},
   "outputs": [],
   "source": [
    "m=[1,2,3]\n",
    "n=[3,4,5]"
   ]
  },
  {
   "cell_type": "code",
   "execution_count": 20,
   "id": "90d1b8ef",
   "metadata": {},
   "outputs": [
    {
     "data": {
      "text/plain": [
       "[1, 2, 3, 3, 4, 5]"
      ]
     },
     "execution_count": 20,
     "metadata": {},
     "output_type": "execute_result"
    }
   ],
   "source": [
    "m+n #Al sumar dos listas las coloca una detrás de otra"
   ]
  },
  {
   "cell_type": "code",
   "execution_count": 21,
   "id": "c96f7855",
   "metadata": {},
   "outputs": [
    {
     "data": {
      "text/plain": [
       "array([4, 6, 8])"
      ]
     },
     "execution_count": 21,
     "metadata": {},
     "output_type": "execute_result"
    }
   ],
   "source": [
    "matriz_m=np.array(m)\n",
    "matriz_n=np.array(n)\n",
    "matriz_m+matriz_n"
   ]
  },
  {
   "cell_type": "code",
   "execution_count": 22,
   "id": "5adddb17",
   "metadata": {},
   "outputs": [],
   "source": [
    "#Matriz tiene índices [a,b,c]. las matrices deben de tener el mismo número de elementos"
   ]
  },
  {
   "cell_type": "code",
   "execution_count": 23,
   "id": "e7aa6388",
   "metadata": {},
   "outputs": [
    {
     "data": {
      "text/plain": [
       "array([1, 4, 9], dtype=int32)"
      ]
     },
     "execution_count": 23,
     "metadata": {},
     "output_type": "execute_result"
    }
   ],
   "source": [
    "np.square(matriz_m)"
   ]
  },
  {
   "cell_type": "code",
   "execution_count": 24,
   "id": "6426da3b",
   "metadata": {},
   "outputs": [
    {
     "data": {
      "text/plain": [
       "1"
      ]
     },
     "execution_count": 24,
     "metadata": {},
     "output_type": "execute_result"
    }
   ],
   "source": [
    "matriz_m[0]"
   ]
  },
  {
   "cell_type": "code",
   "execution_count": 25,
   "id": "c3f43f16",
   "metadata": {},
   "outputs": [
    {
     "data": {
      "text/plain": [
       "3"
      ]
     },
     "execution_count": 25,
     "metadata": {},
     "output_type": "execute_result"
    }
   ],
   "source": [
    "matriz_m[-1]"
   ]
  },
  {
   "cell_type": "code",
   "execution_count": 26,
   "id": "91422cdd",
   "metadata": {},
   "outputs": [
    {
     "data": {
      "text/plain": [
       "1"
      ]
     },
     "execution_count": 26,
     "metadata": {},
     "output_type": "execute_result"
    }
   ],
   "source": [
    "matriz_m[-3]"
   ]
  },
  {
   "cell_type": "code",
   "execution_count": 27,
   "id": "0caeb721",
   "metadata": {},
   "outputs": [],
   "source": [
    "#Se pueden editar los elementos de una matriz, de manera similar a las listas\n",
    "matriz_m[0] = True"
   ]
  },
  {
   "cell_type": "code",
   "execution_count": 28,
   "id": "49408a98",
   "metadata": {},
   "outputs": [
    {
     "data": {
      "text/plain": [
       "array([1, 2, 3])"
      ]
     },
     "execution_count": 28,
     "metadata": {},
     "output_type": "execute_result"
    }
   ],
   "source": [
    "matriz_m"
   ]
  },
  {
   "cell_type": "code",
   "execution_count": 29,
   "id": "fea07937",
   "metadata": {},
   "outputs": [],
   "source": [
    "matriz_m[1] = True"
   ]
  },
  {
   "cell_type": "code",
   "execution_count": 30,
   "id": "55bb9d96",
   "metadata": {},
   "outputs": [
    {
     "data": {
      "text/plain": [
       "array([1, 1, 3])"
      ]
     },
     "execution_count": 30,
     "metadata": {},
     "output_type": "execute_result"
    }
   ],
   "source": [
    "matriz_m"
   ]
  },
  {
   "cell_type": "code",
   "execution_count": 31,
   "id": "f2e910eb",
   "metadata": {},
   "outputs": [
    {
     "data": {
      "text/plain": [
       "array([-90,   2,   5,   8,  21,  38,  77])"
      ]
     },
     "execution_count": 31,
     "metadata": {},
     "output_type": "execute_result"
    }
   ],
   "source": [
    "desordenada=np.array([5,21,8,2,77,38,-90])\n",
    "desordenada.sort()\n",
    "desordenada"
   ]
  },
  {
   "cell_type": "code",
   "execution_count": 32,
   "id": "11bd34df",
   "metadata": {},
   "outputs": [],
   "source": [
    "matriz_1=np.array(range(1,6))\n",
    "matriz_2=np.array(range(4,11))"
   ]
  },
  {
   "cell_type": "code",
   "execution_count": 33,
   "id": "52d84c25",
   "metadata": {},
   "outputs": [
    {
     "data": {
      "text/plain": [
       "array([1, 2, 3, 4, 5])"
      ]
     },
     "execution_count": 33,
     "metadata": {},
     "output_type": "execute_result"
    }
   ],
   "source": [
    "matriz_1"
   ]
  },
  {
   "cell_type": "code",
   "execution_count": 34,
   "id": "04c38561",
   "metadata": {},
   "outputs": [
    {
     "data": {
      "text/plain": [
       "array([ 4,  5,  6,  7,  8,  9, 10])"
      ]
     },
     "execution_count": 34,
     "metadata": {},
     "output_type": "execute_result"
    }
   ],
   "source": [
    "matriz_2"
   ]
  },
  {
   "cell_type": "code",
   "execution_count": 37,
   "id": "067cf1b0",
   "metadata": {},
   "outputs": [],
   "source": [
    "matriz_3=np.append(matriz_1,matriz_2, axis=0) #da lo mismo si no pusiera axis porque por defecto ya está en el eje 0"
   ]
  },
  {
   "cell_type": "code",
   "execution_count": 38,
   "id": "3cf73654",
   "metadata": {},
   "outputs": [
    {
     "data": {
      "text/plain": [
       "array([ 1,  2,  3,  4,  5,  4,  5,  6,  7,  8,  9, 10])"
      ]
     },
     "execution_count": 38,
     "metadata": {},
     "output_type": "execute_result"
    }
   ],
   "source": [
    "matriz_3"
   ]
  },
  {
   "cell_type": "code",
   "execution_count": 39,
   "id": "41109fec",
   "metadata": {},
   "outputs": [
    {
     "data": {
      "text/plain": [
       "array([ 1,  2, 11,  3,  4,  5,  4,  5,  6,  7,  8,  9, 10])"
      ]
     },
     "execution_count": 39,
     "metadata": {},
     "output_type": "execute_result"
    }
   ],
   "source": [
    "np.insert(matriz_3,2,11)"
   ]
  },
  {
   "cell_type": "markdown",
   "id": "c0dc0ce8",
   "metadata": {},
   "source": [
    "# Lunes"
   ]
  },
  {
   "cell_type": "code",
   "execution_count": 40,
   "id": "7a54c676",
   "metadata": {},
   "outputs": [
    {
     "data": {
      "text/plain": [
       "array([[ 18,  23,  20],\n",
       "       [400, 380, 710]])"
      ]
     },
     "execution_count": 40,
     "metadata": {},
     "output_type": "execute_result"
    }
   ],
   "source": [
    "# Matrices bidimensionales\n",
    "bidim=np.array([[18,23,20],[400,380,710]])\n",
    "bidim"
   ]
  },
  {
   "cell_type": "code",
   "execution_count": 41,
   "id": "d66ef7aa",
   "metadata": {},
   "outputs": [
    {
     "data": {
      "text/plain": [
       "(2, 3)"
      ]
     },
     "execution_count": 41,
     "metadata": {},
     "output_type": "execute_result"
    }
   ],
   "source": [
    "bidim.shape #Dimensiones de la  matriz"
   ]
  },
  {
   "cell_type": "code",
   "execution_count": 42,
   "id": "def88c70",
   "metadata": {},
   "outputs": [
    {
     "data": {
      "text/plain": [
       "2"
      ]
     },
     "execution_count": 42,
     "metadata": {},
     "output_type": "execute_result"
    }
   ],
   "source": [
    "bidim.ndim #Cuántas n dimensiones posee?"
   ]
  },
  {
   "cell_type": "code",
   "execution_count": 43,
   "id": "d1128881",
   "metadata": {},
   "outputs": [
    {
     "data": {
      "text/plain": [
       "710"
      ]
     },
     "execution_count": 43,
     "metadata": {},
     "output_type": "execute_result"
    }
   ],
   "source": [
    "bidim[-1,-1]"
   ]
  },
  {
   "cell_type": "code",
   "execution_count": 44,
   "id": "711147ab",
   "metadata": {},
   "outputs": [
    {
     "data": {
      "text/plain": [
       "18"
      ]
     },
     "execution_count": 44,
     "metadata": {},
     "output_type": "execute_result"
    }
   ],
   "source": [
    "bidim[0,0]"
   ]
  },
  {
   "cell_type": "code",
   "execution_count": 45,
   "id": "5e2780e9",
   "metadata": {},
   "outputs": [
    {
     "data": {
      "text/plain": [
       "array([[ 18,  23,  20, 400, 380, 710,  18,  23,  20, 400],\n",
       "       [380, 710,  18,  23,  20, 400, 380, 710,  18,  23],\n",
       "       [ 20, 400, 380, 710,  18,  23,  20, 400, 380, 710],\n",
       "       [ 18,  23,  20, 400, 380, 710,  18,  23,  20, 400],\n",
       "       [380, 710,  18,  23,  20, 400, 380, 710,  18,  23],\n",
       "       [ 20, 400, 380, 710,  18,  23,  20, 400, 380, 710],\n",
       "       [ 18,  23,  20, 400, 380, 710,  18,  23,  20, 400],\n",
       "       [380, 710,  18,  23,  20, 400, 380, 710,  18,  23],\n",
       "       [ 20, 400, 380, 710,  18,  23,  20, 400, 380, 710],\n",
       "       [ 18,  23,  20, 400, 380, 710,  18,  23,  20, 400]])"
      ]
     },
     "execution_count": 45,
     "metadata": {},
     "output_type": "execute_result"
    }
   ],
   "source": [
    "np.resize(bidim,(10,10))"
   ]
  },
  {
   "cell_type": "code",
   "execution_count": 47,
   "id": "351620e9",
   "metadata": {},
   "outputs": [
    {
     "data": {
      "text/plain": [
       "array([ 1,  8, 15])"
      ]
     },
     "execution_count": 47,
     "metadata": {},
     "output_type": "execute_result"
    }
   ],
   "source": [
    "f=np.arange(1,16,7) #Matriz desde a(1) hasta b-1(16-1=15) con un salto de 7\n",
    "f"
   ]
  },
  {
   "cell_type": "code",
   "execution_count": 48,
   "id": "456bdfd1",
   "metadata": {},
   "outputs": [
    {
     "data": {
      "text/plain": [
       "array([1, 2, 3, 4, 5, 6, 7, 8, 9])"
      ]
     },
     "execution_count": 48,
     "metadata": {},
     "output_type": "execute_result"
    }
   ],
   "source": [
    "g=np.arange(1,10) #Matriz de a hasta b-1\n",
    "g"
   ]
  },
  {
   "cell_type": "code",
   "execution_count": 49,
   "id": "43e27db6",
   "metadata": {},
   "outputs": [
    {
     "data": {
      "text/plain": [
       "array([[1, 2, 3, 4, 5, 6, 7, 8, 9],\n",
       "       [1, 2, 3, 4, 5, 6, 7, 8, 9]])"
      ]
     },
     "execution_count": 49,
     "metadata": {},
     "output_type": "execute_result"
    }
   ],
   "source": [
    "gg=np.array([g,g])\n",
    "gg"
   ]
  },
  {
   "cell_type": "code",
   "execution_count": 50,
   "id": "c64c52bd",
   "metadata": {},
   "outputs": [
    {
     "data": {
      "text/plain": [
       "array([[ 1,  2,  3,  4,  5],\n",
       "       [ 6,  7,  8,  9, 10],\n",
       "       [11, 12, 13, 14, 15],\n",
       "       [16, 17, 18, 19, 20],\n",
       "       [21, 22, 23, 24, 25]])"
      ]
     },
     "execution_count": 50,
     "metadata": {},
     "output_type": "execute_result"
    }
   ],
   "source": [
    "h=np.reshape(np.array(range(1,26)),(5,5))\n",
    "h"
   ]
  },
  {
   "cell_type": "code",
   "execution_count": 51,
   "id": "5debb378",
   "metadata": {},
   "outputs": [
    {
     "data": {
      "text/plain": [
       "array([1, 2, 3])"
      ]
     },
     "execution_count": 51,
     "metadata": {},
     "output_type": "execute_result"
    }
   ],
   "source": [
    "i=np.asarray([1,2,3])\n",
    "i"
   ]
  },
  {
   "cell_type": "code",
   "execution_count": 52,
   "id": "ebeb73ec",
   "metadata": {},
   "outputs": [
    {
     "data": {
      "text/plain": [
       "dtype('int32')"
      ]
     },
     "execution_count": 52,
     "metadata": {},
     "output_type": "execute_result"
    }
   ],
   "source": [
    "i.dtype"
   ]
  },
  {
   "cell_type": "code",
   "execution_count": 54,
   "id": "53a823ad",
   "metadata": {},
   "outputs": [],
   "source": [
    "j=i.astype(\"complex64\") #cambiar tipo de datos a complex"
   ]
  },
  {
   "cell_type": "code",
   "execution_count": 55,
   "id": "e36755d5",
   "metadata": {},
   "outputs": [
    {
     "data": {
      "text/plain": [
       "dtype('complex64')"
      ]
     },
     "execution_count": 55,
     "metadata": {},
     "output_type": "execute_result"
    }
   ],
   "source": [
    "j.dtype"
   ]
  },
  {
   "cell_type": "code",
   "execution_count": 56,
   "id": "15e1f142",
   "metadata": {},
   "outputs": [
    {
     "data": {
      "text/plain": [
       "array([1.+0.j, 2.+0.j, 3.+0.j], dtype=complex64)"
      ]
     },
     "execution_count": 56,
     "metadata": {},
     "output_type": "execute_result"
    }
   ],
   "source": [
    "j"
   ]
  },
  {
   "cell_type": "code",
   "execution_count": 57,
   "id": "4a4a366c",
   "metadata": {},
   "outputs": [],
   "source": [
    "k=i.astype(\"float64\") #cambiar a float"
   ]
  },
  {
   "cell_type": "code",
   "execution_count": 58,
   "id": "e9f51449",
   "metadata": {},
   "outputs": [
    {
     "data": {
      "text/plain": [
       "array([1., 2., 3.])"
      ]
     },
     "execution_count": 58,
     "metadata": {},
     "output_type": "execute_result"
    }
   ],
   "source": [
    "k"
   ]
  },
  {
   "cell_type": "code",
   "execution_count": 59,
   "id": "c02bcf48",
   "metadata": {},
   "outputs": [
    {
     "data": {
      "text/plain": [
       "dtype('float64')"
      ]
     },
     "execution_count": 59,
     "metadata": {},
     "output_type": "execute_result"
    }
   ],
   "source": [
    "k.dtype"
   ]
  },
  {
   "cell_type": "code",
   "execution_count": 60,
   "id": "b3f59d12",
   "metadata": {},
   "outputs": [
    {
     "data": {
      "text/plain": [
       "array([[1, 0],\n",
       "       [0, 1]])"
      ]
     },
     "execution_count": 60,
     "metadata": {},
     "output_type": "execute_result"
    }
   ],
   "source": [
    "np.eye(2, dtype=int) #estas matrices tienen un 1 en la diagonal principal"
   ]
  },
  {
   "cell_type": "code",
   "execution_count": 61,
   "id": "57e10a71",
   "metadata": {},
   "outputs": [
    {
     "data": {
      "text/plain": [
       "array([[1, 0, 0, 0, 0, 0, 0, 0, 0, 0],\n",
       "       [0, 1, 0, 0, 0, 0, 0, 0, 0, 0],\n",
       "       [0, 0, 1, 0, 0, 0, 0, 0, 0, 0],\n",
       "       [0, 0, 0, 1, 0, 0, 0, 0, 0, 0],\n",
       "       [0, 0, 0, 0, 1, 0, 0, 0, 0, 0],\n",
       "       [0, 0, 0, 0, 0, 1, 0, 0, 0, 0],\n",
       "       [0, 0, 0, 0, 0, 0, 1, 0, 0, 0],\n",
       "       [0, 0, 0, 0, 0, 0, 0, 1, 0, 0],\n",
       "       [0, 0, 0, 0, 0, 0, 0, 0, 1, 0],\n",
       "       [0, 0, 0, 0, 0, 0, 0, 0, 0, 1]])"
      ]
     },
     "execution_count": 61,
     "metadata": {},
     "output_type": "execute_result"
    }
   ],
   "source": [
    "np.eye(10, dtype=int) #se especifica un solo número porque es una matriz cuadrada"
   ]
  },
  {
   "cell_type": "code",
   "execution_count": 62,
   "id": "5bb73e81",
   "metadata": {},
   "outputs": [
    {
     "data": {
      "text/plain": [
       "array([[1., 0., 0.],\n",
       "       [0., 1., 0.]])"
      ]
     },
     "execution_count": 62,
     "metadata": {},
     "output_type": "execute_result"
    }
   ],
   "source": [
    "np.eye(2,3) #por defecto la matriz tiene decimales"
   ]
  },
  {
   "cell_type": "code",
   "execution_count": 63,
   "id": "b3082ec8",
   "metadata": {},
   "outputs": [
    {
     "data": {
      "text/plain": [
       "array([[0., 1., 0.],\n",
       "       [0., 0., 1.]])"
      ]
     },
     "execution_count": 63,
     "metadata": {},
     "output_type": "execute_result"
    }
   ],
   "source": [
    "np.eye(2,3, k=1) #k sirve para desplazar k lugares"
   ]
  },
  {
   "cell_type": "code",
   "execution_count": 64,
   "id": "790dd9af",
   "metadata": {},
   "outputs": [
    {
     "data": {
      "text/plain": [
       "array([[0, 0, 0, 1, 0, 0, 0],\n",
       "       [0, 0, 0, 0, 1, 0, 0],\n",
       "       [0, 0, 0, 0, 0, 1, 0],\n",
       "       [0, 0, 0, 0, 0, 0, 1],\n",
       "       [0, 0, 0, 0, 0, 0, 0],\n",
       "       [0, 0, 0, 0, 0, 0, 0],\n",
       "       [0, 0, 0, 0, 0, 0, 0],\n",
       "       [0, 0, 0, 0, 0, 0, 0],\n",
       "       [0, 0, 0, 0, 0, 0, 0],\n",
       "       [0, 0, 0, 0, 0, 0, 0]])"
      ]
     },
     "execution_count": 64,
     "metadata": {},
     "output_type": "execute_result"
    }
   ],
   "source": [
    "np.eye(10,7,k=3,dtype=int)"
   ]
  },
  {
   "cell_type": "code",
   "execution_count": 65,
   "id": "bf166ff3",
   "metadata": {},
   "outputs": [],
   "source": [
    "#numpy.eye(N, M=None, k=0, dtype=<class 'float'>, order='C',]*,like=None)"
   ]
  },
  {
   "cell_type": "code",
   "execution_count": 67,
   "id": "972e03d4",
   "metadata": {},
   "outputs": [
    {
     "data": {
      "text/plain": [
       "array([[0., 0., 0., 1., 0., 0., 0.],\n",
       "       [0., 0., 0., 0., 1., 0., 0.],\n",
       "       [0., 0., 0., 0., 0., 1., 0.],\n",
       "       [0., 0., 0., 0., 0., 0., 1.],\n",
       "       [0., 0., 0., 0., 0., 0., 0.],\n",
       "       [0., 0., 0., 0., 0., 0., 0.],\n",
       "       [0., 0., 0., 0., 0., 0., 0.],\n",
       "       [0., 0., 0., 0., 0., 0., 0.],\n",
       "       [0., 0., 0., 0., 0., 0., 0.],\n",
       "       [0., 0., 0., 0., 0., 0., 0.]])"
      ]
     },
     "execution_count": 67,
     "metadata": {},
     "output_type": "execute_result"
    }
   ],
   "source": [
    "np.eye(N=10,M=7,k=3)"
   ]
  },
  {
   "cell_type": "code",
   "execution_count": 68,
   "id": "a7597c9e",
   "metadata": {},
   "outputs": [
    {
     "data": {
      "text/plain": [
       "array([[0., 0., 0., 1., 0., 0., 0., 0., 0., 0.],\n",
       "       [0., 0., 0., 0., 1., 0., 0., 0., 0., 0.],\n",
       "       [0., 0., 0., 0., 0., 1., 0., 0., 0., 0.],\n",
       "       [0., 0., 0., 0., 0., 0., 1., 0., 0., 0.],\n",
       "       [0., 0., 0., 0., 0., 0., 0., 1., 0., 0.],\n",
       "       [0., 0., 0., 0., 0., 0., 0., 0., 1., 0.],\n",
       "       [0., 0., 0., 0., 0., 0., 0., 0., 0., 1.]])"
      ]
     },
     "execution_count": 68,
     "metadata": {},
     "output_type": "execute_result"
    }
   ],
   "source": [
    "np.eye(N=7,M=10,k=3) #volteada"
   ]
  },
  {
   "cell_type": "code",
   "execution_count": 69,
   "id": "3da2d352",
   "metadata": {},
   "outputs": [
    {
     "data": {
      "text/plain": [
       "array([0., 0., 0.])"
      ]
     },
     "execution_count": 69,
     "metadata": {},
     "output_type": "execute_result"
    }
   ],
   "source": [
    "np.zeros(3) #matriz de ceros"
   ]
  },
  {
   "cell_type": "code",
   "execution_count": 70,
   "id": "47cafb39",
   "metadata": {},
   "outputs": [
    {
     "data": {
      "text/plain": [
       "array([[1., 1., 1.],\n",
       "       [1., 1., 1.]])"
      ]
     },
     "execution_count": 70,
     "metadata": {},
     "output_type": "execute_result"
    }
   ],
   "source": [
    "np.ones(shape=(2,3)) #matriz de unos"
   ]
  },
  {
   "cell_type": "code",
   "execution_count": 71,
   "id": "8ff46df4",
   "metadata": {},
   "outputs": [
    {
     "data": {
      "text/plain": [
       "array([[0.00000000e+000, 0.00000000e+000, 0.00000000e+000],\n",
       "       [0.00000000e+000, 0.00000000e+000, 8.91294425e-321],\n",
       "       [1.12890176e-311, 1.12890176e-311, 0.00000000e+000]])"
      ]
     },
     "execution_count": 71,
     "metadata": {},
     "output_type": "execute_result"
    }
   ],
   "source": [
    "np.empty(shape=(3,3))"
   ]
  },
  {
   "cell_type": "code",
   "execution_count": 72,
   "id": "03cedc4f",
   "metadata": {},
   "outputs": [
    {
     "data": {
      "text/plain": [
       "array([[False, False, False, False, False, False, False, False],\n",
       "       [False, False, False, False, False, False, False, False]])"
      ]
     },
     "execution_count": 72,
     "metadata": {},
     "output_type": "execute_result"
    }
   ],
   "source": [
    "np.full(shape=(2,8), fill_value=False)"
   ]
  },
  {
   "cell_type": "code",
   "execution_count": 73,
   "id": "98ec6571",
   "metadata": {},
   "outputs": [
    {
     "data": {
      "text/plain": [
       "array([[1., 0., 0., 0.],\n",
       "       [0., 1., 0., 0.],\n",
       "       [0., 0., 1., 0.],\n",
       "       [0., 0., 0., 1.]])"
      ]
     },
     "execution_count": 73,
     "metadata": {},
     "output_type": "execute_result"
    }
   ],
   "source": [
    "np.identity(4) #siempre 1s en diagonal principal y siempre cuadradas"
   ]
  },
  {
   "cell_type": "code",
   "execution_count": 75,
   "id": "a552d8c3",
   "metadata": {},
   "outputs": [],
   "source": [
    "##Operacdores y Operaciones"
   ]
  },
  {
   "cell_type": "code",
   "execution_count": 76,
   "id": "4decb608",
   "metadata": {},
   "outputs": [
    {
     "data": {
      "text/plain": [
       "256"
      ]
     },
     "execution_count": 76,
     "metadata": {},
     "output_type": "execute_result"
    }
   ],
   "source": [
    "i=4\n",
    "i**4"
   ]
  },
  {
   "cell_type": "code",
   "execution_count": 77,
   "id": "4e3fad3e",
   "metadata": {},
   "outputs": [],
   "source": [
    "i*=10 #multiplica el valor almacenado en i por el escrito a la derecha del igual"
   ]
  },
  {
   "cell_type": "code",
   "execution_count": 78,
   "id": "01a36438",
   "metadata": {},
   "outputs": [
    {
     "data": {
      "text/plain": [
       "40"
      ]
     },
     "execution_count": 78,
     "metadata": {},
     "output_type": "execute_result"
    }
   ],
   "source": [
    "i"
   ]
  },
  {
   "cell_type": "code",
   "execution_count": 79,
   "id": "f0a81b2e",
   "metadata": {},
   "outputs": [
    {
     "data": {
      "text/plain": [
       "4.0"
      ]
     },
     "execution_count": 79,
     "metadata": {},
     "output_type": "execute_result"
    }
   ],
   "source": [
    "i/=10 #puede alterar el tipo de variable\n",
    "i"
   ]
  },
  {
   "cell_type": "code",
   "execution_count": 80,
   "id": "77d3af63",
   "metadata": {},
   "outputs": [],
   "source": [
    "i -=1 #mantiene el tipo e variable"
   ]
  },
  {
   "cell_type": "code",
   "execution_count": 84,
   "id": "1c084f15",
   "metadata": {},
   "outputs": [
    {
     "data": {
      "text/plain": [
       "4.0"
      ]
     },
     "execution_count": 84,
     "metadata": {},
     "output_type": "execute_result"
    }
   ],
   "source": [
    "i"
   ]
  },
  {
   "cell_type": "code",
   "execution_count": 82,
   "id": "20ea1d55",
   "metadata": {},
   "outputs": [
    {
     "data": {
      "text/plain": [
       "13.0"
      ]
     },
     "execution_count": 82,
     "metadata": {},
     "output_type": "execute_result"
    }
   ],
   "source": [
    "i +=10 #mantiene el tipo de variable\n",
    "i"
   ]
  },
  {
   "cell_type": "code",
   "execution_count": 83,
   "id": "10b0e7e6",
   "metadata": {},
   "outputs": [
    {
     "data": {
      "text/plain": [
       "4.0"
      ]
     },
     "execution_count": 83,
     "metadata": {},
     "output_type": "execute_result"
    }
   ],
   "source": [
    "i //=3\n",
    "i"
   ]
  },
  {
   "cell_type": "code",
   "execution_count": 85,
   "id": "ff22fc87",
   "metadata": {},
   "outputs": [
    {
     "data": {
      "text/plain": [
       "1.0"
      ]
     },
     "execution_count": 85,
     "metadata": {},
     "output_type": "execute_result"
    }
   ],
   "source": [
    "i%=3\n",
    "i"
   ]
  },
  {
   "cell_type": "code",
   "execution_count": 87,
   "id": "d473e700",
   "metadata": {},
   "outputs": [
    {
     "data": {
      "text/plain": [
       "2"
      ]
     },
     "execution_count": 87,
     "metadata": {},
     "output_type": "execute_result"
    }
   ],
   "source": [
    "contador=1\n",
    "contador = contador + 1\n",
    "contador"
   ]
  },
  {
   "cell_type": "code",
   "execution_count": 88,
   "id": "ce5c0adb",
   "metadata": {},
   "outputs": [
    {
     "data": {
      "text/plain": [
       "3"
      ]
     },
     "execution_count": 88,
     "metadata": {},
     "output_type": "execute_result"
    }
   ],
   "source": [
    "contador +=1\n",
    "contador"
   ]
  },
  {
   "cell_type": "code",
   "execution_count": null,
   "id": "3af3b8a4",
   "metadata": {},
   "outputs": [],
   "source": []
  }
 ],
 "metadata": {
  "kernelspec": {
   "display_name": "Python 3",
   "language": "python",
   "name": "python3"
  },
  "language_info": {
   "codemirror_mode": {
    "name": "ipython",
    "version": 3
   },
   "file_extension": ".py",
   "mimetype": "text/x-python",
   "name": "python",
   "nbconvert_exporter": "python",
   "pygments_lexer": "ipython3",
   "version": "3.6.13"
  }
 },
 "nbformat": 4,
 "nbformat_minor": 5
}
