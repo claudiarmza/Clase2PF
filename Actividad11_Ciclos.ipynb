{
 "cells": [
  {
   "cell_type": "markdown",
   "id": "840f61b7",
   "metadata": {},
   "source": [
    "# Actividad 11"
   ]
  },
  {
   "cell_type": "code",
   "execution_count": 2,
   "id": "3e2779f6",
   "metadata": {},
   "outputs": [],
   "source": [
    "#Crear un programa que permita al usuario ingresar los montos de  las compras de un cliente \n",
    "#(se desconoce la cantidad de datos que se  cargarán, que pueden cambiar en cada ejecución), \n",
    "#cortando el ingreso de datos cuando el usuario ingresa el monto 0.\n",
    "\n",
    "#Si ingresa una cantidad negativa, no debe procesarse y se le debe  solicitar que ingrese una nueva cantidad. \n",
    "#Al ﬁnalizar, informar el  total a pagar teniendo en cuenta que, si las ventas superan el total  de $ 1000, \n",
    "#se debe aplicar un 10% de descuento."
   ]
  },
  {
   "cell_type": "code",
   "execution_count": 8,
   "id": "f21d47f0",
   "metadata": {},
   "outputs": [
    {
     "name": "stdout",
     "output_type": "stream",
     "text": [
      "Ingrese el monto de compra del cliente (0 para salir): $90\n",
      "Ingrese el siguiente monto de compra del cliente (0 para salir): $0\n",
      "El monto total a pagar es de $ 90.0\n"
     ]
    }
   ],
   "source": [
    "conteo=0\n",
    "suma=0\n",
    "monto=float(input(\"Ingrese el monto de compra del cliente (0 para salir): $\"))\n",
    "while monto!=0:\n",
    "    while monto<0:\n",
    "        monto=float(input(\"Monto no válido, debe ser positivo. Ingrese de nuevo el monto de compra del cliente: $\"))\n",
    "    if monto!=0:\n",
    "        suma+=monto\n",
    "        conteo+=1\n",
    "        monto=float(input(\"Ingrese el siguiente monto de compra del cliente (0 para salir): $\"))\n",
    "if suma>1000:\n",
    "    print(\"El monto total a pagar es de $\", suma*.9,\"\\nSe aplicó un descuento de $\",suma*.1)\n",
    "else:\n",
    "    print (\"El monto total a pagar es de $\", suma)\n",
    "    "
   ]
  },
  {
   "cell_type": "code",
   "execution_count": null,
   "id": "8ce4654d",
   "metadata": {},
   "outputs": [],
   "source": []
  }
 ],
 "metadata": {
  "kernelspec": {
   "display_name": "Python 3 (ipykernel)",
   "language": "python",
   "name": "python3"
  },
  "language_info": {
   "codemirror_mode": {
    "name": "ipython",
    "version": 3
   },
   "file_extension": ".py",
   "mimetype": "text/x-python",
   "name": "python",
   "nbconvert_exporter": "python",
   "pygments_lexer": "ipython3",
   "version": "3.9.12"
  }
 },
 "nbformat": 4,
 "nbformat_minor": 5
}
