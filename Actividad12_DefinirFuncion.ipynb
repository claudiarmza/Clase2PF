{
 "cells": [
  {
   "cell_type": "markdown",
   "id": "3632d464",
   "metadata": {},
   "source": [
    "# Actividad 12 - Definir una función"
   ]
  },
  {
   "cell_type": "code",
   "execution_count": 1,
   "id": "d1487e73",
   "metadata": {},
   "outputs": [],
   "source": [
    "#Crea una función en la cual recibas como argumentos los  parámetros de una función cuadrática, y te regrese x1 y x2"
   ]
  },
  {
   "cell_type": "code",
   "execution_count": 10,
   "id": "bfc1e776",
   "metadata": {},
   "outputs": [],
   "source": [
    "from math import sqrt"
   ]
  },
  {
   "cell_type": "code",
   "execution_count": 11,
   "id": "5c2902ef",
   "metadata": {},
   "outputs": [],
   "source": [
    "def funcion(a,b,c):\n",
    "    x1=(-b+(sqrt((b*b)-(4*a*c))))/(2*a)\n",
    "    x2=(-b-(sqrt((b*b)-(4*a*c))))/(2*a)\n",
    "    print('El valor de x1 es: {0}, el valor de x2 es {1}'.format(x1,x2))"
   ]
  },
  {
   "cell_type": "code",
   "execution_count": 12,
   "id": "2692befe",
   "metadata": {},
   "outputs": [
    {
     "name": "stdout",
     "output_type": "stream",
     "text": [
      "El valor de x1 es: 2.189254787610007, el valor de x2 es -1.5225881209433405\n"
     ]
    }
   ],
   "source": [
    "funcion(12,-8,-40)"
   ]
  },
  {
   "cell_type": "code",
   "execution_count": null,
   "id": "7c78f3f7",
   "metadata": {},
   "outputs": [],
   "source": [
    "#cmath se utilizaría para la solución compleja"
   ]
  }
 ],
 "metadata": {
  "kernelspec": {
   "display_name": "Python 3 (ipykernel)",
   "language": "python",
   "name": "python3"
  },
  "language_info": {
   "codemirror_mode": {
    "name": "ipython",
    "version": 3
   },
   "file_extension": ".py",
   "mimetype": "text/x-python",
   "name": "python",
   "nbconvert_exporter": "python",
   "pygments_lexer": "ipython3",
   "version": "3.9.12"
  }
 },
 "nbformat": 4,
 "nbformat_minor": 5
}
