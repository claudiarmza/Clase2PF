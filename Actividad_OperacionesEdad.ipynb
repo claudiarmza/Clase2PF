{
 "cells": [
  {
   "cell_type": "markdown",
   "id": "b6c1c183",
   "metadata": {},
   "source": [
    "# Operaciones Edad"
   ]
  },
  {
   "cell_type": "code",
   "execution_count": 2,
   "id": "c0de457f",
   "metadata": {},
   "outputs": [
    {
     "name": "stdout",
     "output_type": "stream",
     "text": [
      "Mi edad es 12.0\n"
     ]
    }
   ],
   "source": [
    "#El doble de mi edad tiene 24 años, ¿cuántos años tengo?\n",
    "mi_edad=24/2\n",
    "mi_edad\n",
    "print(\"Mi edad es\", mi_edad)"
   ]
  },
  {
   "cell_type": "code",
   "execution_count": 3,
   "id": "d3f93660",
   "metadata": {},
   "outputs": [
    {
     "name": "stdout",
     "output_type": "stream",
     "text": [
      "La edad de mi hermana es 63\n"
     ]
    }
   ],
   "source": [
    "#A un tercio de la edad de mi hermana le disminuyo 15 años. Tengo 6 años. ¿Qué edad tiene?\n",
    "# 1/3(x)-15=y; y=6\n",
    "y=6\n",
    "x=(y+15)*3\n",
    "print(\"La edad de mi hermana es\",x)"
   ]
  },
  {
   "cell_type": "code",
   "execution_count": 4,
   "id": "45a3af42",
   "metadata": {},
   "outputs": [
    {
     "data": {
      "text/plain": [
       "True"
      ]
     },
     "execution_count": 4,
     "metadata": {},
     "output_type": "execute_result"
    }
   ],
   "source": [
    "#Determine quién es más grande\n",
    "x>y"
   ]
  },
  {
   "cell_type": "code",
   "execution_count": 5,
   "id": "cd71320f",
   "metadata": {},
   "outputs": [
    {
     "data": {
      "text/plain": [
       "False"
      ]
     },
     "execution_count": 5,
     "metadata": {},
     "output_type": "execute_result"
    }
   ],
   "source": [
    "y>x"
   ]
  },
  {
   "cell_type": "code",
   "execution_count": 6,
   "id": "e24ca009",
   "metadata": {},
   "outputs": [
    {
     "name": "stdout",
     "output_type": "stream",
     "text": [
      "La persona de mayor edad es la que tiene:  63\n"
     ]
    }
   ],
   "source": [
    "print(\"La persona de mayor edad es la que tiene: \", max(x,y))"
   ]
  },
  {
   "cell_type": "code",
   "execution_count": null,
   "id": "e3492d87",
   "metadata": {},
   "outputs": [],
   "source": []
  }
 ],
 "metadata": {
  "kernelspec": {
   "display_name": "Python 3 (ipykernel)",
   "language": "python",
   "name": "python3"
  },
  "language_info": {
   "codemirror_mode": {
    "name": "ipython",
    "version": 3
   },
   "file_extension": ".py",
   "mimetype": "text/x-python",
   "name": "python",
   "nbconvert_exporter": "python",
   "pygments_lexer": "ipython3",
   "version": "3.9.12"
  }
 },
 "nbformat": 4,
 "nbformat_minor": 5
}
