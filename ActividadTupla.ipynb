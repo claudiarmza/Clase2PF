{
 "cells": [
  {
   "cell_type": "code",
   "execution_count": 10,
   "id": "2c892045",
   "metadata": {},
   "outputs": [],
   "source": [
    "#Crea una tupla con logitud de 5, usando diferentes tipos de datos\n",
    "tupla2=(21, \"Mexico\",3.14, True, \"Deacero\")"
   ]
  },
  {
   "cell_type": "code",
   "execution_count": 11,
   "id": "5d460f9c",
   "metadata": {},
   "outputs": [
    {
     "data": {
      "text/plain": [
       "(21, 'Mexico', 3.14, True, 'Deacero')"
      ]
     },
     "execution_count": 11,
     "metadata": {},
     "output_type": "execute_result"
    }
   ],
   "source": [
    "tupla2"
   ]
  },
  {
   "cell_type": "code",
   "execution_count": 12,
   "id": "cf3fb81f",
   "metadata": {},
   "outputs": [],
   "source": [
    "#Cambia la tupla a lista\n",
    "listadetupla2=list(tupla2)"
   ]
  },
  {
   "cell_type": "code",
   "execution_count": 13,
   "id": "625a2f58",
   "metadata": {},
   "outputs": [
    {
     "data": {
      "text/plain": [
       "[21, 'Mexico', 3.14, True, 'Deacero']"
      ]
     },
     "execution_count": 13,
     "metadata": {},
     "output_type": "execute_result"
    }
   ],
   "source": [
    "listadetupla2"
   ]
  },
  {
   "cell_type": "code",
   "execution_count": 14,
   "id": "4efebb15",
   "metadata": {},
   "outputs": [
    {
     "data": {
      "text/plain": [
       "[1, 2, 3, 4, 5]"
      ]
     },
     "execution_count": 14,
     "metadata": {},
     "output_type": "execute_result"
    }
   ],
   "source": [
    "#Crea un diccionario donde la clave sea del 1 al 5 y los elementos los datos de la lista\n",
    "lista3=[1,2,3,4,5]\n",
    "lista3"
   ]
  },
  {
   "cell_type": "code",
   "execution_count": 15,
   "id": "650beb2a",
   "metadata": {},
   "outputs": [],
   "source": [
    "diccionario=dict(zip(lista3,listadetupla2))"
   ]
  },
  {
   "cell_type": "code",
   "execution_count": 16,
   "id": "7fb01efa",
   "metadata": {},
   "outputs": [
    {
     "data": {
      "text/plain": [
       "{1: 21, 2: 'Mexico', 3: 3.14, 4: True, 5: 'Deacero'}"
      ]
     },
     "execution_count": 16,
     "metadata": {},
     "output_type": "execute_result"
    }
   ],
   "source": [
    "diccionario"
   ]
  },
  {
   "cell_type": "code",
   "execution_count": null,
   "id": "a897ab44",
   "metadata": {},
   "outputs": [],
   "source": []
  }
 ],
 "metadata": {
  "kernelspec": {
   "display_name": "Python 3",
   "language": "python",
   "name": "python3"
  },
  "language_info": {
   "codemirror_mode": {
    "name": "ipython",
    "version": 3
   },
   "file_extension": ".py",
   "mimetype": "text/x-python",
   "name": "python",
   "nbconvert_exporter": "python",
   "pygments_lexer": "ipython3",
   "version": "3.6.13"
  }
 },
 "nbformat": 4,
 "nbformat_minor": 5
}
