{
 "cells": [
  {
   "cell_type": "code",
   "execution_count": 1,
   "id": "548b5ac7",
   "metadata": {},
   "outputs": [
    {
     "name": "stdout",
     "output_type": "stream",
     "text": [
      "Hola clase de Python Fundamentals\n"
     ]
    }
   ],
   "source": [
    "print (\"Hola clase de Python Fundamentals\")"
   ]
  },
  {
   "cell_type": "code",
   "execution_count": 2,
   "id": "769bf279",
   "metadata": {},
   "outputs": [
    {
     "data": {
      "text/plain": [
       "3"
      ]
     },
     "execution_count": 2,
     "metadata": {},
     "output_type": "execute_result"
    }
   ],
   "source": [
    "1+2"
   ]
  },
  {
   "cell_type": "code",
   "execution_count": 3,
   "id": "5b8d86b9",
   "metadata": {},
   "outputs": [
    {
     "data": {
      "text/plain": [
       "100"
      ]
     },
     "execution_count": 3,
     "metadata": {},
     "output_type": "execute_result"
    }
   ],
   "source": [
    "x=100\n",
    "x"
   ]
  },
  {
   "cell_type": "code",
   "execution_count": 4,
   "id": "e86daaa1",
   "metadata": {},
   "outputs": [
    {
     "data": {
      "text/plain": [
       "int"
      ]
     },
     "execution_count": 4,
     "metadata": {},
     "output_type": "execute_result"
    }
   ],
   "source": [
    "type(x)"
   ]
  },
  {
   "cell_type": "code",
   "execution_count": 5,
   "id": "71f7c8ca",
   "metadata": {},
   "outputs": [
    {
     "data": {
      "text/plain": [
       "'Claudia'"
      ]
     },
     "execution_count": 5,
     "metadata": {},
     "output_type": "execute_result"
    }
   ],
   "source": [
    "nombre=\"Claudia\"\n",
    "nombre"
   ]
  },
  {
   "cell_type": "code",
   "execution_count": 6,
   "id": "4e76b704",
   "metadata": {},
   "outputs": [
    {
     "data": {
      "text/plain": [
       "str"
      ]
     },
     "execution_count": 6,
     "metadata": {},
     "output_type": "execute_result"
    }
   ],
   "source": [
    "type(nombre)"
   ]
  },
  {
   "cell_type": "code",
   "execution_count": 7,
   "id": "8b1cc584",
   "metadata": {},
   "outputs": [
    {
     "name": "stdout",
     "output_type": "stream",
     "text": [
      "Hola clase\n"
     ]
    }
   ],
   "source": [
    "2**4 #Potencia de 2 a la 4\n",
    "print (\"Hola clase\") #Para imprimir x texto"
   ]
  },
  {
   "cell_type": "code",
   "execution_count": 8,
   "id": "dbf3618a",
   "metadata": {},
   "outputs": [
    {
     "name": "stdout",
     "output_type": "stream",
     "text": [
      "99\n"
     ]
    }
   ],
   "source": [
    "#Precio total de 3 compras\n",
    "c1=19\n",
    "c2=24\n",
    "c3=56\n",
    "print(c1+c2+c3)"
   ]
  },
  {
   "cell_type": "code",
   "execution_count": 9,
   "id": "500c29a0",
   "metadata": {},
   "outputs": [
    {
     "name": "stdout",
     "output_type": "stream",
     "text": [
      "99\n"
     ]
    }
   ],
   "source": [
    "#Precio total de 3 compras\n",
    "c1=19\n",
    "c2=24\n",
    "c3=56\n",
    "total=c1+c2+c3\n",
    "print(total)"
   ]
  },
  {
   "cell_type": "code",
   "execution_count": 10,
   "id": "e41ab821",
   "metadata": {},
   "outputs": [],
   "source": [
    "variable1=\"variable original\"\n",
    "def variable_global():\n",
    "    global variable1\n",
    "    variable1=\"variable global modificada\""
   ]
  },
  {
   "cell_type": "code",
   "execution_count": 11,
   "id": "780bd826",
   "metadata": {},
   "outputs": [
    {
     "name": "stdout",
     "output_type": "stream",
     "text": [
      "variable original\n"
     ]
    }
   ],
   "source": [
    "print(variable1)"
   ]
  },
  {
   "cell_type": "code",
   "execution_count": 12,
   "id": "770c1b19",
   "metadata": {},
   "outputs": [],
   "source": [
    "variable_global()"
   ]
  },
  {
   "cell_type": "code",
   "execution_count": 13,
   "id": "7a078649",
   "metadata": {},
   "outputs": [
    {
     "name": "stdout",
     "output_type": "stream",
     "text": [
      "variable global modificada\n"
     ]
    }
   ],
   "source": [
    "print(variable1)"
   ]
  },
  {
   "cell_type": "code",
   "execution_count": 14,
   "id": "4e3f2417",
   "metadata": {},
   "outputs": [],
   "source": [
    "#complejo=4+5i\n",
    "#posee parte real + parte imaginaria"
   ]
  },
  {
   "cell_type": "code",
   "execution_count": 15,
   "id": "800a95ce",
   "metadata": {},
   "outputs": [
    {
     "ename": "NameError",
     "evalue": "name 'false' is not defined",
     "output_type": "error",
     "traceback": [
      "\u001b[1;31m---------------------------------------------------------------------------\u001b[0m",
      "\u001b[1;31mNameError\u001b[0m                                 Traceback (most recent call last)",
      "\u001b[1;32m<ipython-input-15-da97da282b65>\u001b[0m in \u001b[0;36m<module>\u001b[1;34m\u001b[0m\n\u001b[1;32m----> 1\u001b[1;33m \u001b[0mfalse\u001b[0m\u001b[1;33m==\u001b[0m\u001b[0mfalse\u001b[0m\u001b[1;33m\u001b[0m\u001b[1;33m\u001b[0m\u001b[0m\n\u001b[0m",
      "\u001b[1;31mNameError\u001b[0m: name 'false' is not defined"
     ]
    }
   ],
   "source": [
    "false==false"
   ]
  },
  {
   "cell_type": "code",
   "execution_count": 16,
   "id": "3b452220",
   "metadata": {},
   "outputs": [
    {
     "data": {
      "text/plain": [
       "True"
      ]
     },
     "execution_count": 16,
     "metadata": {},
     "output_type": "execute_result"
    }
   ],
   "source": [
    "False==False\n"
   ]
  },
  {
   "cell_type": "code",
   "execution_count": 17,
   "id": "e21f3b69",
   "metadata": {},
   "outputs": [],
   "source": [
    "#lista se define con [] (corchetes)\n",
    "factura=[\"queso\",70,\"pollo\",80]"
   ]
  },
  {
   "cell_type": "code",
   "execution_count": 18,
   "id": "f53ab514",
   "metadata": {},
   "outputs": [
    {
     "data": {
      "text/plain": [
       "['queso', 70, 'pollo', 80]"
      ]
     },
     "execution_count": 18,
     "metadata": {},
     "output_type": "execute_result"
    }
   ],
   "source": [
    "factura"
   ]
  },
  {
   "cell_type": "code",
   "execution_count": 19,
   "id": "c22e8619",
   "metadata": {},
   "outputs": [],
   "source": [
    "#acceder a elementos en una lista por el índice\n",
    "#por defecto el índice inicia en 0 iniciando desde la izquierda\n",
    "#el índice negativo inicia en la derecha"
   ]
  },
  {
   "cell_type": "code",
   "execution_count": 20,
   "id": "5d02646d",
   "metadata": {},
   "outputs": [
    {
     "data": {
      "text/plain": [
       "'queso'"
      ]
     },
     "execution_count": 20,
     "metadata": {},
     "output_type": "execute_result"
    }
   ],
   "source": [
    "factura[0]"
   ]
  },
  {
   "cell_type": "code",
   "execution_count": 21,
   "id": "825c6197",
   "metadata": {},
   "outputs": [],
   "source": [
    "factura[0]=\"papas\""
   ]
  },
  {
   "cell_type": "code",
   "execution_count": 22,
   "id": "7adcd618",
   "metadata": {},
   "outputs": [
    {
     "data": {
      "text/plain": [
       "['papas', 70, 'pollo', 80]"
      ]
     },
     "execution_count": 22,
     "metadata": {},
     "output_type": "execute_result"
    }
   ],
   "source": [
    "factura"
   ]
  },
  {
   "cell_type": "code",
   "execution_count": 23,
   "id": "d392c7ec",
   "metadata": {},
   "outputs": [],
   "source": [
    "factura.append(100) #agregar elemento al final de la lista"
   ]
  },
  {
   "cell_type": "code",
   "execution_count": 24,
   "id": "e5a38832",
   "metadata": {},
   "outputs": [
    {
     "data": {
      "text/plain": [
       "['papas', 70, 'pollo', 80, 100]"
      ]
     },
     "execution_count": 24,
     "metadata": {},
     "output_type": "execute_result"
    }
   ],
   "source": [
    "factura"
   ]
  },
  {
   "cell_type": "code",
   "execution_count": 25,
   "id": "a27d1e2a",
   "metadata": {},
   "outputs": [],
   "source": [
    "factura.append(100)"
   ]
  },
  {
   "cell_type": "code",
   "execution_count": 26,
   "id": "d92ede69",
   "metadata": {},
   "outputs": [],
   "source": [
    "factura.append(100)"
   ]
  },
  {
   "cell_type": "code",
   "execution_count": 27,
   "id": "8f668195",
   "metadata": {},
   "outputs": [
    {
     "data": {
      "text/plain": [
       "3"
      ]
     },
     "execution_count": 27,
     "metadata": {},
     "output_type": "execute_result"
    }
   ],
   "source": [
    "factura.count(100)"
   ]
  },
  {
   "cell_type": "code",
   "execution_count": 28,
   "id": "79553cd8",
   "metadata": {},
   "outputs": [],
   "source": [
    "factura.extend(range(5,7)) #agregar numeros de 5 a 7"
   ]
  },
  {
   "cell_type": "code",
   "execution_count": 29,
   "id": "1ba717d8",
   "metadata": {},
   "outputs": [
    {
     "data": {
      "text/plain": [
       "['papas', 70, 'pollo', 80, 100, 100, 100, 5, 6]"
      ]
     },
     "execution_count": 29,
     "metadata": {},
     "output_type": "execute_result"
    }
   ],
   "source": [
    "factura"
   ]
  },
  {
   "cell_type": "code",
   "execution_count": 30,
   "id": "77c0d8ba",
   "metadata": {},
   "outputs": [
    {
     "data": {
      "text/plain": [
       "4"
      ]
     },
     "execution_count": 30,
     "metadata": {},
     "output_type": "execute_result"
    }
   ],
   "source": [
    "factura.index(100) #aparición por primera vez de un elemento"
   ]
  },
  {
   "cell_type": "code",
   "execution_count": 31,
   "id": "77d0f75c",
   "metadata": {},
   "outputs": [
    {
     "data": {
      "text/plain": [
       "6"
      ]
     },
     "execution_count": 31,
     "metadata": {},
     "output_type": "execute_result"
    }
   ],
   "source": [
    "factura.pop() #elimina y regresa último elemento"
   ]
  },
  {
   "cell_type": "code",
   "execution_count": 32,
   "id": "6a91e476",
   "metadata": {},
   "outputs": [
    {
     "data": {
      "text/plain": [
       "['papas', 70, 'pollo', 80, 100, 100, 100, 5]"
      ]
     },
     "execution_count": 32,
     "metadata": {},
     "output_type": "execute_result"
    }
   ],
   "source": [
    "factura"
   ]
  },
  {
   "cell_type": "code",
   "execution_count": 33,
   "id": "d18fa131",
   "metadata": {},
   "outputs": [],
   "source": [
    "factura.insert(2,10) #insertar un elemento en índice (índice, elemnto)"
   ]
  },
  {
   "cell_type": "code",
   "execution_count": 34,
   "id": "02a7fbb4",
   "metadata": {},
   "outputs": [
    {
     "data": {
      "text/plain": [
       "['papas', 70, 10, 'pollo', 80, 100, 100, 100, 5]"
      ]
     },
     "execution_count": 34,
     "metadata": {},
     "output_type": "execute_result"
    }
   ],
   "source": [
    "factura"
   ]
  },
  {
   "cell_type": "code",
   "execution_count": null,
   "id": "9169449d",
   "metadata": {},
   "outputs": [],
   "source": [
    "factura.remove()"
   ]
  }
 ],
 "metadata": {
  "kernelspec": {
   "display_name": "Python 3",
   "language": "python",
   "name": "python3"
  },
  "language_info": {
   "codemirror_mode": {
    "name": "ipython",
    "version": 3
   },
   "file_extension": ".py",
   "mimetype": "text/x-python",
   "name": "python",
   "nbconvert_exporter": "python",
   "pygments_lexer": "ipython3",
   "version": "3.6.13"
  }
 },
 "nbformat": 4,
 "nbformat_minor": 5
}
