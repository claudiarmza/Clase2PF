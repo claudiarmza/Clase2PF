{
 "cells": [
  {
   "cell_type": "code",
   "execution_count": 5,
   "id": "7e5b1b15",
   "metadata": {},
   "outputs": [
    {
     "name": "stdout",
     "output_type": "stream",
     "text": [
      "Eres mayor de edad\n"
     ]
    }
   ],
   "source": [
    "#Hagamos un programa que determine si eres mayor de edad o no\n",
    "a=25\n",
    "if a>=18:\n",
    "    print (\"Eres mayor de edad\")\n",
    "else:\n",
    "    print (\"Eres menor de edad\")"
   ]
  },
  {
   "cell_type": "code",
   "execution_count": 6,
   "id": "28f3964b",
   "metadata": {},
   "outputs": [
    {
     "name": "stdout",
     "output_type": "stream",
     "text": [
      "Eres menor de edad\n"
     ]
    }
   ],
   "source": [
    "a=17\n",
    "if a>=18:\n",
    "    print (\"Eres mayor de edad\")\n",
    "else:\n",
    "    print (\"Eres menor de edad\")"
   ]
  },
  {
   "cell_type": "code",
   "execution_count": 7,
   "id": "e2809ce9",
   "metadata": {},
   "outputs": [
    {
     "name": "stdout",
     "output_type": "stream",
     "text": [
      "Por favor, escriba su edad en números enteros25\n",
      "Eres mayor de edad\n"
     ]
    }
   ],
   "source": [
    "edad=int(input(\"Por favor, escriba su edad en números enteros\"))\n",
    "if edad>=18:\n",
    "    print (\"Eres mayor de edad\")\n",
    "elif edad<18:\n",
    "    print (\"Eres menor de edad\")"
   ]
  },
  {
   "cell_type": "code",
   "execution_count": null,
   "id": "30c8f6b5",
   "metadata": {},
   "outputs": [],
   "source": []
  }
 ],
 "metadata": {
  "kernelspec": {
   "display_name": "Python 3 (ipykernel)",
   "language": "python",
   "name": "python3"
  },
  "language_info": {
   "codemirror_mode": {
    "name": "ipython",
    "version": 3
   },
   "file_extension": ".py",
   "mimetype": "text/x-python",
   "name": "python",
   "nbconvert_exporter": "python",
   "pygments_lexer": "ipython3",
   "version": "3.9.12"
  }
 },
 "nbformat": 4,
 "nbformat_minor": 5
}
