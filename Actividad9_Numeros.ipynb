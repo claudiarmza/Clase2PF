{
 "cells": [
  {
   "cell_type": "markdown",
   "id": "48aa40cc",
   "metadata": {},
   "source": [
    "# Actividad 9"
   ]
  },
  {
   "cell_type": "code",
   "execution_count": 2,
   "id": "31871c3a",
   "metadata": {},
   "outputs": [],
   "source": [
    "#Pídale al usuario que ingrese dos números y muestre cuál de los dos es menor. \n",
    "#Considere el caso en el que ambos números son iguales."
   ]
  },
  {
   "cell_type": "code",
   "execution_count": 2,
   "id": "2c01e498",
   "metadata": {},
   "outputs": [
    {
     "name": "stdout",
     "output_type": "stream",
     "text": [
      "Ingrese dos números por favor\n",
      "Número 1:20\n",
      "Número 2:80\n",
      "El segundo número (80.0) es mayor que el primero (20.0)\n"
     ]
    }
   ],
   "source": [
    "print(\"Ingrese dos números por favor\")\n",
    "numero1=float(input(\"Número 1:\"))\n",
    "numero2=float(input(\"Número 2:\"))\n",
    "if numero1>numero2:\n",
    "    print (\"El primer número ({0}) es mayor que el segundo ({1})\".format(numero1,numero2))\n",
    "elif numero1<numero2:\n",
    "    print (\"El segundo número ({0}) es mayor que el primero ({1})\".format(numero2,numero1))\n",
    "else:\n",
    "    print (\"Ambos números son iguales ({0}) y ({1})\".format(numero1, numero2))"
   ]
  },
  {
   "cell_type": "code",
   "execution_count": null,
   "id": "c410851e",
   "metadata": {},
   "outputs": [],
   "source": []
  }
 ],
 "metadata": {
  "kernelspec": {
   "display_name": "Python 3 (ipykernel)",
   "language": "python",
   "name": "python3"
  },
  "language_info": {
   "codemirror_mode": {
    "name": "ipython",
    "version": 3
   },
   "file_extension": ".py",
   "mimetype": "text/x-python",
   "name": "python",
   "nbconvert_exporter": "python",
   "pygments_lexer": "ipython3",
   "version": "3.9.12"
  }
 },
 "nbformat": 4,
 "nbformat_minor": 5
}
