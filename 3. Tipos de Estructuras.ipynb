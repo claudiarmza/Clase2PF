{
 "cells": [
  {
   "cell_type": "code",
   "execution_count": 1,
   "id": "f17d070c",
   "metadata": {},
   "outputs": [
    {
     "name": "stdout",
     "output_type": "stream",
     "text": [
      "Hola clase de Python Fundamentals\n"
     ]
    }
   ],
   "source": [
    "print (\"Hola clase de Python Fundamentals\")"
   ]
  },
  {
   "cell_type": "code",
   "execution_count": 2,
   "id": "ca89d84a",
   "metadata": {},
   "outputs": [
    {
     "data": {
      "text/plain": [
       "3"
      ]
     },
     "execution_count": 2,
     "metadata": {},
     "output_type": "execute_result"
    }
   ],
   "source": [
    "1+2"
   ]
  },
  {
   "cell_type": "code",
   "execution_count": 3,
   "id": "25e231ec",
   "metadata": {},
   "outputs": [
    {
     "data": {
      "text/plain": [
       "100"
      ]
     },
     "execution_count": 3,
     "metadata": {},
     "output_type": "execute_result"
    }
   ],
   "source": [
    "x=100\n",
    "x"
   ]
  },
  {
   "cell_type": "code",
   "execution_count": 4,
   "id": "1207e4f7",
   "metadata": {},
   "outputs": [
    {
     "data": {
      "text/plain": [
       "int"
      ]
     },
     "execution_count": 4,
     "metadata": {},
     "output_type": "execute_result"
    }
   ],
   "source": [
    "type(x)"
   ]
  },
  {
   "cell_type": "code",
   "execution_count": 5,
   "id": "2ed61000",
   "metadata": {},
   "outputs": [
    {
     "data": {
      "text/plain": [
       "'Claudia'"
      ]
     },
     "execution_count": 5,
     "metadata": {},
     "output_type": "execute_result"
    }
   ],
   "source": [
    "nombre=\"Claudia\"\n",
    "nombre"
   ]
  },
  {
   "cell_type": "code",
   "execution_count": 6,
   "id": "e20dda63",
   "metadata": {},
   "outputs": [
    {
     "data": {
      "text/plain": [
       "str"
      ]
     },
     "execution_count": 6,
     "metadata": {},
     "output_type": "execute_result"
    }
   ],
   "source": [
    "type(nombre)"
   ]
  },
  {
   "cell_type": "code",
   "execution_count": 7,
   "id": "17581645",
   "metadata": {},
   "outputs": [
    {
     "name": "stdout",
     "output_type": "stream",
     "text": [
      "Hola clase\n"
     ]
    }
   ],
   "source": [
    "2**4 #Potencia de 2 a la 4\n",
    "print (\"Hola clase\") #Para imprimir x texto"
   ]
  },
  {
   "cell_type": "code",
   "execution_count": 8,
   "id": "99a8a3e1",
   "metadata": {},
   "outputs": [
    {
     "name": "stdout",
     "output_type": "stream",
     "text": [
      "99\n"
     ]
    }
   ],
   "source": [
    "#Precio total de 3 compras\n",
    "c1=19\n",
    "c2=24\n",
    "c3=56\n",
    "print(c1+c2+c3)"
   ]
  },
  {
   "cell_type": "code",
   "execution_count": 9,
   "id": "498a8263",
   "metadata": {},
   "outputs": [
    {
     "name": "stdout",
     "output_type": "stream",
     "text": [
      "99\n"
     ]
    }
   ],
   "source": [
    "#Precio total de 3 compras\n",
    "c1=19\n",
    "c2=24\n",
    "c3=56\n",
    "total=c1+c2+c3\n",
    "print(total)"
   ]
  },
  {
   "cell_type": "code",
   "execution_count": 10,
   "id": "d300a727",
   "metadata": {},
   "outputs": [],
   "source": [
    "variable1=\"variable original\"\n",
    "def variable_global():\n",
    "    global variable1\n",
    "    variable1=\"variable global modificada\""
   ]
  },
  {
   "cell_type": "code",
   "execution_count": 11,
   "id": "8822f5cf",
   "metadata": {},
   "outputs": [
    {
     "name": "stdout",
     "output_type": "stream",
     "text": [
      "variable original\n"
     ]
    }
   ],
   "source": [
    "print(variable1)"
   ]
  },
  {
   "cell_type": "code",
   "execution_count": 12,
   "id": "b1410339",
   "metadata": {},
   "outputs": [],
   "source": [
    "variable_global()"
   ]
  },
  {
   "cell_type": "code",
   "execution_count": 13,
   "id": "4829d788",
   "metadata": {},
   "outputs": [
    {
     "name": "stdout",
     "output_type": "stream",
     "text": [
      "variable global modificada\n"
     ]
    }
   ],
   "source": [
    "print(variable1)"
   ]
  },
  {
   "cell_type": "code",
   "execution_count": 14,
   "id": "86029a7c",
   "metadata": {},
   "outputs": [],
   "source": [
    "#complejo=4+5i\n",
    "#posee parte real + parte imaginaria"
   ]
  },
  {
   "cell_type": "code",
   "execution_count": 15,
   "id": "b386f001",
   "metadata": {},
   "outputs": [
    {
     "ename": "NameError",
     "evalue": "name 'false' is not defined",
     "output_type": "error",
     "traceback": [
      "\u001b[1;31m---------------------------------------------------------------------------\u001b[0m",
      "\u001b[1;31mNameError\u001b[0m                                 Traceback (most recent call last)",
      "\u001b[1;32m<ipython-input-15-da97da282b65>\u001b[0m in \u001b[0;36m<module>\u001b[1;34m\u001b[0m\n\u001b[1;32m----> 1\u001b[1;33m \u001b[0mfalse\u001b[0m\u001b[1;33m==\u001b[0m\u001b[0mfalse\u001b[0m\u001b[1;33m\u001b[0m\u001b[1;33m\u001b[0m\u001b[0m\n\u001b[0m",
      "\u001b[1;31mNameError\u001b[0m: name 'false' is not defined"
     ]
    }
   ],
   "source": [
    "false==false"
   ]
  },
  {
   "cell_type": "code",
   "execution_count": 16,
   "id": "e06efdea",
   "metadata": {},
   "outputs": [
    {
     "data": {
      "text/plain": [
       "True"
      ]
     },
     "execution_count": 16,
     "metadata": {},
     "output_type": "execute_result"
    }
   ],
   "source": [
    "False==False\n"
   ]
  },
  {
   "cell_type": "code",
   "execution_count": 17,
   "id": "ca59d383",
   "metadata": {},
   "outputs": [],
   "source": [
    "#lista se define con [] (corchetes)\n",
    "factura=[\"queso\",70,\"pollo\",80]"
   ]
  },
  {
   "cell_type": "code",
   "execution_count": 18,
   "id": "d00d9fc0",
   "metadata": {},
   "outputs": [
    {
     "data": {
      "text/plain": [
       "['queso', 70, 'pollo', 80]"
      ]
     },
     "execution_count": 18,
     "metadata": {},
     "output_type": "execute_result"
    }
   ],
   "source": [
    "factura"
   ]
  },
  {
   "cell_type": "code",
   "execution_count": 19,
   "id": "825b5db7",
   "metadata": {},
   "outputs": [],
   "source": [
    "#acceder a elementos en una lista por el índice\n",
    "#por defecto el índice inicia en 0 iniciando desde la izquierda\n",
    "#el índice negativo inicia en la derecha"
   ]
  },
  {
   "cell_type": "code",
   "execution_count": 20,
   "id": "d1b1e3df",
   "metadata": {},
   "outputs": [
    {
     "data": {
      "text/plain": [
       "'queso'"
      ]
     },
     "execution_count": 20,
     "metadata": {},
     "output_type": "execute_result"
    }
   ],
   "source": [
    "factura[0]"
   ]
  },
  {
   "cell_type": "code",
   "execution_count": 21,
   "id": "551c55e6",
   "metadata": {},
   "outputs": [],
   "source": [
    "factura[0]=\"papas\""
   ]
  },
  {
   "cell_type": "code",
   "execution_count": 22,
   "id": "604ee4f9",
   "metadata": {},
   "outputs": [
    {
     "data": {
      "text/plain": [
       "['papas', 70, 'pollo', 80]"
      ]
     },
     "execution_count": 22,
     "metadata": {},
     "output_type": "execute_result"
    }
   ],
   "source": [
    "factura"
   ]
  },
  {
   "cell_type": "code",
   "execution_count": 23,
   "id": "e9de29ac",
   "metadata": {},
   "outputs": [],
   "source": [
    "factura.append(100) #agregar elemento al final de la lista"
   ]
  },
  {
   "cell_type": "code",
   "execution_count": 24,
   "id": "e69ef0cb",
   "metadata": {},
   "outputs": [
    {
     "data": {
      "text/plain": [
       "['papas', 70, 'pollo', 80, 100]"
      ]
     },
     "execution_count": 24,
     "metadata": {},
     "output_type": "execute_result"
    }
   ],
   "source": [
    "factura"
   ]
  },
  {
   "cell_type": "code",
   "execution_count": 25,
   "id": "ded12b37",
   "metadata": {},
   "outputs": [],
   "source": [
    "factura.append(100)"
   ]
  },
  {
   "cell_type": "code",
   "execution_count": 26,
   "id": "a2b941bc",
   "metadata": {},
   "outputs": [],
   "source": [
    "factura.append(100)"
   ]
  },
  {
   "cell_type": "code",
   "execution_count": 27,
   "id": "43192314",
   "metadata": {},
   "outputs": [
    {
     "data": {
      "text/plain": [
       "3"
      ]
     },
     "execution_count": 27,
     "metadata": {},
     "output_type": "execute_result"
    }
   ],
   "source": [
    "factura.count(100)"
   ]
  },
  {
   "cell_type": "code",
   "execution_count": 28,
   "id": "705aeeb0",
   "metadata": {},
   "outputs": [],
   "source": [
    "factura.extend(range(5,7)) #agregar numeros de 5 a 7"
   ]
  },
  {
   "cell_type": "code",
   "execution_count": 29,
   "id": "cd4a13ad",
   "metadata": {},
   "outputs": [
    {
     "data": {
      "text/plain": [
       "['papas', 70, 'pollo', 80, 100, 100, 100, 5, 6]"
      ]
     },
     "execution_count": 29,
     "metadata": {},
     "output_type": "execute_result"
    }
   ],
   "source": [
    "factura"
   ]
  },
  {
   "cell_type": "code",
   "execution_count": 30,
   "id": "88fe0e7c",
   "metadata": {},
   "outputs": [
    {
     "data": {
      "text/plain": [
       "4"
      ]
     },
     "execution_count": 30,
     "metadata": {},
     "output_type": "execute_result"
    }
   ],
   "source": [
    "factura.index(100) #aparición por primera vez de un elemento"
   ]
  },
  {
   "cell_type": "code",
   "execution_count": 31,
   "id": "0e44aaf3",
   "metadata": {},
   "outputs": [
    {
     "data": {
      "text/plain": [
       "6"
      ]
     },
     "execution_count": 31,
     "metadata": {},
     "output_type": "execute_result"
    }
   ],
   "source": [
    "factura.pop() #elimina y regresa último elemento"
   ]
  },
  {
   "cell_type": "code",
   "execution_count": 32,
   "id": "c60b09aa",
   "metadata": {},
   "outputs": [
    {
     "data": {
      "text/plain": [
       "['papas', 70, 'pollo', 80, 100, 100, 100, 5]"
      ]
     },
     "execution_count": 32,
     "metadata": {},
     "output_type": "execute_result"
    }
   ],
   "source": [
    "factura"
   ]
  },
  {
   "cell_type": "code",
   "execution_count": 33,
   "id": "baade082",
   "metadata": {},
   "outputs": [],
   "source": [
    "factura.insert(2,10) #insertar un elemento en índice (índice, elemnto)"
   ]
  },
  {
   "cell_type": "code",
   "execution_count": 34,
   "id": "c3304399",
   "metadata": {},
   "outputs": [
    {
     "data": {
      "text/plain": [
       "['papas', 70, 10, 'pollo', 80, 100, 100, 100, 5]"
      ]
     },
     "execution_count": 34,
     "metadata": {},
     "output_type": "execute_result"
    }
   ],
   "source": [
    "factura"
   ]
  },
  {
   "cell_type": "code",
   "execution_count": 35,
   "id": "a3c6f226",
   "metadata": {},
   "outputs": [],
   "source": [
    "factura.remove(100) #eliminar un elemento la primera vez que aparece"
   ]
  },
  {
   "cell_type": "code",
   "execution_count": 36,
   "id": "3de7cd54",
   "metadata": {},
   "outputs": [
    {
     "data": {
      "text/plain": [
       "['papas', 70, 10, 'pollo', 80, 100, 100, 5]"
      ]
     },
     "execution_count": 36,
     "metadata": {},
     "output_type": "execute_result"
    }
   ],
   "source": [
    "factura"
   ]
  },
  {
   "cell_type": "code",
   "execution_count": 37,
   "id": "b7f85b60",
   "metadata": {},
   "outputs": [
    {
     "data": {
      "text/plain": [
       "10"
      ]
     },
     "execution_count": 37,
     "metadata": {},
     "output_type": "execute_result"
    }
   ],
   "source": [
    "factura.pop(2) #elimina elemento de índice"
   ]
  },
  {
   "cell_type": "code",
   "execution_count": 38,
   "id": "9a37ecef",
   "metadata": {},
   "outputs": [
    {
     "data": {
      "text/plain": [
       "['papas', 70, 'pollo', 80, 100, 100, 5]"
      ]
     },
     "execution_count": 38,
     "metadata": {},
     "output_type": "execute_result"
    }
   ],
   "source": [
    "factura"
   ]
  },
  {
   "cell_type": "code",
   "execution_count": 39,
   "id": "6df2c47e",
   "metadata": {},
   "outputs": [],
   "source": [
    "#Tuplas\n",
    "#Características: Definida con () -- Inmutable"
   ]
  },
  {
   "cell_type": "code",
   "execution_count": 40,
   "id": "3384b268",
   "metadata": {},
   "outputs": [],
   "source": [
    "tupla1=(\"Python\",3.6,True,5)"
   ]
  },
  {
   "cell_type": "code",
   "execution_count": 41,
   "id": "640f2a6d",
   "metadata": {},
   "outputs": [
    {
     "data": {
      "text/plain": [
       "tuple"
      ]
     },
     "execution_count": 41,
     "metadata": {},
     "output_type": "execute_result"
    }
   ],
   "source": [
    "type(tupla1)"
   ]
  },
  {
   "cell_type": "code",
   "execution_count": 42,
   "id": "68301afa",
   "metadata": {},
   "outputs": [
    {
     "ename": "AttributeError",
     "evalue": "'tuple' object has no attribute 'appennd'",
     "output_type": "error",
     "traceback": [
      "\u001b[1;31m---------------------------------------------------------------------------\u001b[0m",
      "\u001b[1;31mAttributeError\u001b[0m                            Traceback (most recent call last)",
      "\u001b[1;32m<ipython-input-42-53703db92b7c>\u001b[0m in \u001b[0;36m<module>\u001b[1;34m\u001b[0m\n\u001b[1;32m----> 1\u001b[1;33m \u001b[0mtupla1\u001b[0m\u001b[1;33m.\u001b[0m\u001b[0mappennd\u001b[0m\u001b[1;33m(\u001b[0m\u001b[1;36m2\u001b[0m\u001b[1;33m)\u001b[0m\u001b[1;33m\u001b[0m\u001b[1;33m\u001b[0m\u001b[0m\n\u001b[0m",
      "\u001b[1;31mAttributeError\u001b[0m: 'tuple' object has no attribute 'appennd'"
     ]
    }
   ],
   "source": [
    "tupla1.appennd(2)"
   ]
  },
  {
   "cell_type": "code",
   "execution_count": 43,
   "id": "cff7054b",
   "metadata": {},
   "outputs": [],
   "source": [
    "listadetupla1=list(tupla1)"
   ]
  },
  {
   "cell_type": "code",
   "execution_count": 44,
   "id": "404e5c98",
   "metadata": {},
   "outputs": [
    {
     "data": {
      "text/plain": [
       "['Python', 3.6, True, 5]"
      ]
     },
     "execution_count": 44,
     "metadata": {},
     "output_type": "execute_result"
    }
   ],
   "source": [
    "listadetupla1"
   ]
  },
  {
   "cell_type": "code",
   "execution_count": 45,
   "id": "c999ffab",
   "metadata": {},
   "outputs": [],
   "source": [
    "listadetupla1.append(\"elemento extra\")"
   ]
  },
  {
   "cell_type": "code",
   "execution_count": 46,
   "id": "f660b57b",
   "metadata": {},
   "outputs": [
    {
     "data": {
      "text/plain": [
       "['Python', 3.6, True, 5, 'elemento extra']"
      ]
     },
     "execution_count": 46,
     "metadata": {},
     "output_type": "execute_result"
    }
   ],
   "source": [
    "listadetupla1"
   ]
  },
  {
   "cell_type": "code",
   "execution_count": 47,
   "id": "9a9ad3c0",
   "metadata": {},
   "outputs": [],
   "source": [
    "tupla1=tuple(listadetupla1)"
   ]
  },
  {
   "cell_type": "code",
   "execution_count": 48,
   "id": "eec5c100",
   "metadata": {},
   "outputs": [
    {
     "data": {
      "text/plain": [
       "('Python', 3.6, True, 5, 'elemento extra')"
      ]
     },
     "execution_count": 48,
     "metadata": {},
     "output_type": "execute_result"
    }
   ],
   "source": [
    "tupla1"
   ]
  },
  {
   "cell_type": "code",
   "execution_count": 49,
   "id": "0d793592",
   "metadata": {},
   "outputs": [
    {
     "data": {
      "text/plain": [
       "tuple"
      ]
     },
     "execution_count": 49,
     "metadata": {},
     "output_type": "execute_result"
    }
   ],
   "source": [
    "type(tupla1)"
   ]
  },
  {
   "cell_type": "markdown",
   "id": "2e4495bb",
   "metadata": {},
   "source": [
    "# Diccionarios"
   ]
  },
  {
   "cell_type": "code",
   "execution_count": 50,
   "id": "a52965b4",
   "metadata": {},
   "outputs": [],
   "source": [
    "#Elementos en pares, poseen una llave o un key, se define con {} llaces\n",
    "#Listas, conjuntos y diccionario son mutables"
   ]
  },
  {
   "cell_type": "code",
   "execution_count": null,
   "id": "706e38c9",
   "metadata": {},
   "outputs": [],
   "source": [
    "#manera 1 con la función dict(), como formato de diccionario"
   ]
  },
  {
   "cell_type": "code",
   "execution_count": 55,
   "id": "d4ce135d",
   "metadata": {},
   "outputs": [],
   "source": [
    "diccionario1={ \"Nombre\":\"Victor\", \"Película\":\"Nope\", \"Número\":3,\n",
    "\"Nombre\":\"Carlos\", \"Película\":\"Avengers\", \"Número\":6,\n",
    "\"Nombre\":\"Claudia\", \"Película\":\"Parasitos\", \"Número\":10 }"
   ]
  },
  {
   "cell_type": "code",
   "execution_count": 56,
   "id": "2434e097",
   "metadata": {},
   "outputs": [
    {
     "data": {
      "text/plain": [
       "dict"
      ]
     },
     "execution_count": 56,
     "metadata": {},
     "output_type": "execute_result"
    }
   ],
   "source": [
    "type(diccionario1)"
   ]
  },
  {
   "cell_type": "code",
   "execution_count": 58,
   "id": "6c69fe9d",
   "metadata": {},
   "outputs": [
    {
     "data": {
      "text/plain": [
       "'Claudia'"
      ]
     },
     "execution_count": 58,
     "metadata": {},
     "output_type": "execute_result"
    }
   ],
   "source": [
    "diccionario1[\"Nombre\"]"
   ]
  },
  {
   "cell_type": "code",
   "execution_count": 59,
   "id": "65b188ab",
   "metadata": {},
   "outputs": [
    {
     "name": "stdout",
     "output_type": "stream",
     "text": [
      "{'Nombre': 'Claudia', 'Película': 'Parasitos', 'Número': 10}\n"
     ]
    }
   ],
   "source": [
    "print(diccionario1)"
   ]
  },
  {
   "cell_type": "code",
   "execution_count": 60,
   "id": "3ebce2f0",
   "metadata": {},
   "outputs": [],
   "source": [
    "diccionario1.clear()"
   ]
  },
  {
   "cell_type": "code",
   "execution_count": 61,
   "id": "b8bee751",
   "metadata": {},
   "outputs": [
    {
     "data": {
      "text/plain": [
       "{}"
      ]
     },
     "execution_count": 61,
     "metadata": {},
     "output_type": "execute_result"
    }
   ],
   "source": [
    "diccionario1"
   ]
  },
  {
   "cell_type": "code",
   "execution_count": 62,
   "id": "43953b7d",
   "metadata": {},
   "outputs": [],
   "source": [
    "keys=(\"Nombre\",\"Pelicula\",\"Numero\")\n",
    "diccionario2=dict.fromkeys(keys)"
   ]
  },
  {
   "cell_type": "code",
   "execution_count": 63,
   "id": "79eefe81",
   "metadata": {},
   "outputs": [
    {
     "data": {
      "text/plain": [
       "{'Nombre': None, 'Pelicula': None, 'Numero': None}"
      ]
     },
     "execution_count": 63,
     "metadata": {},
     "output_type": "execute_result"
    }
   ],
   "source": [
    "diccionario2"
   ]
  },
  {
   "cell_type": "code",
   "execution_count": null,
   "id": "f5766094",
   "metadata": {},
   "outputs": [],
   "source": [
    "#manera 3 de la función dict()"
   ]
  },
  {
   "cell_type": "code",
   "execution_count": 64,
   "id": "e7cf3301",
   "metadata": {},
   "outputs": [],
   "source": [
    "sistema=dict(Windows=10,Core=\"i7\",Python=3.6)"
   ]
  },
  {
   "cell_type": "code",
   "execution_count": 65,
   "id": "a1cd9beb",
   "metadata": {},
   "outputs": [
    {
     "data": {
      "text/plain": [
       "{'Windows': 10, 'Core': 'i7', 'Python': 3.6}"
      ]
     },
     "execution_count": 65,
     "metadata": {},
     "output_type": "execute_result"
    }
   ],
   "source": [
    "sistema"
   ]
  },
  {
   "cell_type": "code",
   "execution_count": 66,
   "id": "5ce7098f",
   "metadata": {},
   "outputs": [
    {
     "data": {
      "text/plain": [
       "dict_items([('Windows', 10), ('Core', 'i7'), ('Python', 3.6)])"
      ]
     },
     "execution_count": 66,
     "metadata": {},
     "output_type": "execute_result"
    }
   ],
   "source": [
    "sistema.items()"
   ]
  },
  {
   "cell_type": "code",
   "execution_count": 67,
   "id": "9f076979",
   "metadata": {},
   "outputs": [
    {
     "data": {
      "text/plain": [
       "10"
      ]
     },
     "execution_count": 67,
     "metadata": {},
     "output_type": "execute_result"
    }
   ],
   "source": [
    "sistema.get(\"Windows\") #obtener valor desde el key"
   ]
  },
  {
   "cell_type": "code",
   "execution_count": 68,
   "id": "48b6ebe6",
   "metadata": {},
   "outputs": [
    {
     "data": {
      "text/plain": [
       "dict_keys(['Windows', 'Core', 'Python'])"
      ]
     },
     "execution_count": 68,
     "metadata": {},
     "output_type": "execute_result"
    }
   ],
   "source": [
    "sistema.keys()"
   ]
  },
  {
   "cell_type": "code",
   "execution_count": 69,
   "id": "077b07d6",
   "metadata": {},
   "outputs": [
    {
     "data": {
      "text/plain": [
       "3.6"
      ]
     },
     "execution_count": 69,
     "metadata": {},
     "output_type": "execute_result"
    }
   ],
   "source": [
    "sistema.pop(\"Python\") #eliminar key + valor y obtener valor eliminado"
   ]
  },
  {
   "cell_type": "code",
   "execution_count": 70,
   "id": "51bd3715",
   "metadata": {},
   "outputs": [
    {
     "data": {
      "text/plain": [
       "{'Windows': 10, 'Core': 'i7'}"
      ]
     },
     "execution_count": 70,
     "metadata": {},
     "output_type": "execute_result"
    }
   ],
   "source": [
    "sistema"
   ]
  },
  {
   "cell_type": "code",
   "execution_count": 71,
   "id": "35b8556c",
   "metadata": {},
   "outputs": [],
   "source": [
    "sistema2=dict(Grafica=\"Intelx\") #segundo diccionario\n",
    "sistema.update(sistema2) #agregar key+valor"
   ]
  },
  {
   "cell_type": "code",
   "execution_count": 72,
   "id": "b2f08d0e",
   "metadata": {},
   "outputs": [
    {
     "data": {
      "text/plain": [
       "{'Windows': 10, 'Core': 'i7', 'Grafica': 'Intelx'}"
      ]
     },
     "execution_count": 72,
     "metadata": {},
     "output_type": "execute_result"
    }
   ],
   "source": [
    "sistema"
   ]
  },
  {
   "cell_type": "code",
   "execution_count": 73,
   "id": "fcd3d699",
   "metadata": {},
   "outputs": [
    {
     "data": {
      "text/plain": [
       "('Grafica', 'Intelx')"
      ]
     },
     "execution_count": 73,
     "metadata": {},
     "output_type": "execute_result"
    }
   ],
   "source": [
    "sistema.popitem()"
   ]
  },
  {
   "cell_type": "code",
   "execution_count": 74,
   "id": "5b7aa7b9",
   "metadata": {},
   "outputs": [
    {
     "data": {
      "text/plain": [
       "{'Windows': 10, 'Core': 'i7'}"
      ]
     },
     "execution_count": 74,
     "metadata": {},
     "output_type": "execute_result"
    }
   ],
   "source": [
    "sistema"
   ]
  },
  {
   "cell_type": "code",
   "execution_count": 75,
   "id": "5cd8d52e",
   "metadata": {},
   "outputs": [],
   "source": [
    "diccionario1={\"Nombre\":\"Victor\", \"Película\":\"Nope\", \"Número\":3}"
   ]
  },
  {
   "cell_type": "code",
   "execution_count": 76,
   "id": "95d71051",
   "metadata": {},
   "outputs": [],
   "source": [
    "list1=[\"M\",\"nom\",\"e\",\"Is\"] #--> i\n",
    "list2=[\"i\",\"bre\",\"s\",\"aac\"] #--> j\n",
    "#si append resultado = [\"M\",\"nom\",\"e\",\"Is\",\"i\",\"bre\",\"s\",\"aac\"]"
   ]
  },
  {
   "cell_type": "code",
   "execution_count": 77,
   "id": "a84ee198",
   "metadata": {},
   "outputs": [],
   "source": [
    "list3=[i+j for i,j in zip(list1,list2)]"
   ]
  },
  {
   "cell_type": "code",
   "execution_count": 78,
   "id": "2aff84c4",
   "metadata": {},
   "outputs": [
    {
     "data": {
      "text/plain": [
       "['Mi', 'nombre', 'es', 'Isaac']"
      ]
     },
     "execution_count": 78,
     "metadata": {},
     "output_type": "execute_result"
    }
   ],
   "source": [
    "list3"
   ]
  },
  {
   "cell_type": "code",
   "execution_count": 79,
   "id": "9a0a1a08",
   "metadata": {},
   "outputs": [],
   "source": [
    "list3.reverse()"
   ]
  },
  {
   "cell_type": "code",
   "execution_count": 80,
   "id": "e7a517aa",
   "metadata": {},
   "outputs": [
    {
     "data": {
      "text/plain": [
       "['Isaac', 'es', 'nombre', 'Mi']"
      ]
     },
     "execution_count": 80,
     "metadata": {},
     "output_type": "execute_result"
    }
   ],
   "source": [
    "list3"
   ]
  },
  {
   "cell_type": "code",
   "execution_count": 81,
   "id": "4afd15e0",
   "metadata": {},
   "outputs": [],
   "source": [
    "listaanidada=[25,[36,33,32,[28,20],27],[26,33,30]]"
   ]
  },
  {
   "cell_type": "code",
   "execution_count": 82,
   "id": "defd92aa",
   "metadata": {},
   "outputs": [
    {
     "data": {
      "text/plain": [
       "[25, [36, 33, 32, [28, 20], 27], [26, 33, 30]]"
      ]
     },
     "execution_count": 82,
     "metadata": {},
     "output_type": "execute_result"
    }
   ],
   "source": [
    "listaanidada"
   ]
  },
  {
   "cell_type": "code",
   "execution_count": 83,
   "id": "b695b855",
   "metadata": {},
   "outputs": [
    {
     "data": {
      "text/plain": [
       "[36, 33, 32, [28, 20], 27]"
      ]
     },
     "execution_count": 83,
     "metadata": {},
     "output_type": "execute_result"
    }
   ],
   "source": [
    "listaanidada[1]"
   ]
  },
  {
   "cell_type": "code",
   "execution_count": 84,
   "id": "67685045",
   "metadata": {},
   "outputs": [
    {
     "data": {
      "text/plain": [
       "[28, 20]"
      ]
     },
     "execution_count": 84,
     "metadata": {},
     "output_type": "execute_result"
    }
   ],
   "source": [
    "listaanidada[1][3]"
   ]
  },
  {
   "cell_type": "code",
   "execution_count": 85,
   "id": "c02ed6a5",
   "metadata": {},
   "outputs": [
    {
     "data": {
      "text/plain": [
       "20"
      ]
     },
     "execution_count": 85,
     "metadata": {},
     "output_type": "execute_result"
    }
   ],
   "source": [
    "listaanidada[1][3][1]"
   ]
  },
  {
   "cell_type": "code",
   "execution_count": 87,
   "id": "118d291e",
   "metadata": {},
   "outputs": [],
   "source": [
    "listaanidada[1][3].append(45)"
   ]
  },
  {
   "cell_type": "code",
   "execution_count": 88,
   "id": "63ff159c",
   "metadata": {},
   "outputs": [
    {
     "data": {
      "text/plain": [
       "[25, [36, 33, 32, [28, 20, 45, 45], 27], [26, 33, 30]]"
      ]
     },
     "execution_count": 88,
     "metadata": {},
     "output_type": "execute_result"
    }
   ],
   "source": [
    "listaanidada"
   ]
  },
  {
   "cell_type": "code",
   "execution_count": 89,
   "id": "758e4f6a",
   "metadata": {},
   "outputs": [],
   "source": [
    "listaanidada[1].remove(32)"
   ]
  },
  {
   "cell_type": "code",
   "execution_count": 90,
   "id": "d28950aa",
   "metadata": {},
   "outputs": [
    {
     "data": {
      "text/plain": [
       "[25, [36, 33, [28, 20, 45, 45], 27], [26, 33, 30]]"
      ]
     },
     "execution_count": 90,
     "metadata": {},
     "output_type": "execute_result"
    }
   ],
   "source": [
    "listaanidada"
   ]
  },
  {
   "cell_type": "code",
   "execution_count": 91,
   "id": "da208575",
   "metadata": {},
   "outputs": [],
   "source": [
    "diccionario1={ \n",
    "    \"P1\":{\"Nombre\":\"Victor\", \"Película\":\"Nope\", \"Número\":3},\n",
    "    \"P2\":{\"Nombre\":\"Carlos\", \"Película\":\"Avengers\", \"Número\":6},\n",
    "    \"P3\":{\"Nombre\":\"Claudia\", \"Película\":\"Parasitos\", \"Número\":10}\n",
    "}"
   ]
  },
  {
   "cell_type": "code",
   "execution_count": 92,
   "id": "a9415ed0",
   "metadata": {},
   "outputs": [
    {
     "data": {
      "text/plain": [
       "'Nope'"
      ]
     },
     "execution_count": 92,
     "metadata": {},
     "output_type": "execute_result"
    }
   ],
   "source": [
    "diccionario1[\"P1\"][\"Película\"]"
   ]
  },
  {
   "cell_type": "code",
   "execution_count": 93,
   "id": "edcc5155",
   "metadata": {},
   "outputs": [],
   "source": [
    "diccionario1[\"P1\"][\"Película\"]=\"Duro de matar\""
   ]
  },
  {
   "cell_type": "code",
   "execution_count": 94,
   "id": "32cf0cf2",
   "metadata": {},
   "outputs": [
    {
     "data": {
      "text/plain": [
       "{'P1': {'Nombre': 'Victor', 'Película': 'Duro de matar', 'Número': 3},\n",
       " 'P2': {'Nombre': 'Carlos', 'Película': 'Avengers', 'Número': 6},\n",
       " 'P3': {'Nombre': 'Claudia', 'Película': 'Parasitos', 'Número': 10}}"
      ]
     },
     "execution_count": 94,
     "metadata": {},
     "output_type": "execute_result"
    }
   ],
   "source": [
    "diccionario1"
   ]
  },
  {
   "cell_type": "code",
   "execution_count": 95,
   "id": "67c147b7",
   "metadata": {},
   "outputs": [],
   "source": [
    "x5=10"
   ]
  },
  {
   "cell_type": "code",
   "execution_count": 96,
   "id": "42bf793b",
   "metadata": {},
   "outputs": [
    {
     "data": {
      "text/plain": [
       "10"
      ]
     },
     "execution_count": 96,
     "metadata": {},
     "output_type": "execute_result"
    }
   ],
   "source": [
    "x5"
   ]
  },
  {
   "cell_type": "code",
   "execution_count": 97,
   "id": "65b61767",
   "metadata": {},
   "outputs": [
    {
     "name": "stdout",
     "output_type": "stream",
     "text": [
      "Espacio en memoria de x5: 1360638432\n"
     ]
    }
   ],
   "source": [
    "print(\"Espacio en memoria de x5:\",id(x5))"
   ]
  },
  {
   "cell_type": "code",
   "execution_count": 98,
   "id": "cbb1d37a",
   "metadata": {},
   "outputs": [],
   "source": [
    "x5=20"
   ]
  },
  {
   "cell_type": "code",
   "execution_count": 99,
   "id": "20f3f02f",
   "metadata": {},
   "outputs": [
    {
     "name": "stdout",
     "output_type": "stream",
     "text": [
      "Espacio en memoria de x5: 1360638752\n"
     ]
    }
   ],
   "source": [
    "print(\"Espacio en memoria de x5:\",id(x5))"
   ]
  },
  {
   "cell_type": "code",
   "execution_count": 102,
   "id": "24c1ccef",
   "metadata": {},
   "outputs": [],
   "source": [
    "x6=[10]"
   ]
  },
  {
   "cell_type": "code",
   "execution_count": 103,
   "id": "0ccd9714",
   "metadata": {},
   "outputs": [
    {
     "data": {
      "text/plain": [
       "[10]"
      ]
     },
     "execution_count": 103,
     "metadata": {},
     "output_type": "execute_result"
    }
   ],
   "source": [
    "x6"
   ]
  },
  {
   "cell_type": "code",
   "execution_count": 104,
   "id": "18f35760",
   "metadata": {},
   "outputs": [
    {
     "name": "stdout",
     "output_type": "stream",
     "text": [
      "Espacio en memoria de x5: 1252632939144\n"
     ]
    }
   ],
   "source": [
    "print(\"Espacio en memoria de x6:\",id(x6))"
   ]
  },
  {
   "cell_type": "code",
   "execution_count": 105,
   "id": "98657902",
   "metadata": {},
   "outputs": [],
   "source": [
    "x6.append(25)"
   ]
  },
  {
   "cell_type": "code",
   "execution_count": 106,
   "id": "d18fa5eb",
   "metadata": {},
   "outputs": [
    {
     "data": {
      "text/plain": [
       "[10, 25]"
      ]
     },
     "execution_count": 106,
     "metadata": {},
     "output_type": "execute_result"
    }
   ],
   "source": [
    "x6"
   ]
  },
  {
   "cell_type": "code",
   "execution_count": 107,
   "id": "5995be05",
   "metadata": {},
   "outputs": [
    {
     "name": "stdout",
     "output_type": "stream",
     "text": [
      "Espacio en memoria de x6: 1252632939144\n"
     ]
    }
   ],
   "source": [
    "print(\"Espacio en memoria de x6:\",id(x6))"
   ]
  },
  {
   "cell_type": "code",
   "execution_count": null,
   "id": "1c55bf46",
   "metadata": {},
   "outputs": [],
   "source": []
  }
 ],
 "metadata": {
  "kernelspec": {
   "display_name": "Python 3",
   "language": "python",
   "name": "python3"
  },
  "language_info": {
   "codemirror_mode": {
    "name": "ipython",
    "version": 3
   },
   "file_extension": ".py",
   "mimetype": "text/x-python",
   "name": "python",
   "nbconvert_exporter": "python",
   "pygments_lexer": "ipython3",
   "version": "3.6.13"
  }
 },
 "nbformat": 4,
 "nbformat_minor": 5
}
